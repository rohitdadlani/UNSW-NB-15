{
 "cells": [
  {
   "cell_type": "code",
   "execution_count": 1,
   "id": "6e696b2a",
   "metadata": {},
   "outputs": [
    {
     "name": "stderr",
     "output_type": "stream",
     "text": [
      "C:\\Users\\rohit\\anaconda3\\lib\\site-packages\\pandas\\core\\computation\\expressions.py:21: UserWarning: Pandas requires version '2.8.4' or newer of 'numexpr' (version '2.7.3' currently installed).\n",
      "  from pandas.core.computation.check import NUMEXPR_INSTALLED\n",
      "C:\\Users\\rohit\\anaconda3\\lib\\site-packages\\pandas\\core\\arrays\\masked.py:60: UserWarning: Pandas requires version '1.3.6' or newer of 'bottleneck' (version '1.3.2' currently installed).\n",
      "  from pandas.core import (\n"
     ]
    }
   ],
   "source": [
    "import pandas as pd\n",
    "import numpy as np\n",
    "import tensorflow as tf\n",
    "import seaborn as sns\n",
    "\n",
    "import matplotlib.pyplot as plt\n",
    "\n",
    "from sklearn.model_selection import train_test_split\n",
    "from sklearn.compose import ColumnTransformer\n",
    "from sklearn.preprocessing import OneHotEncoder\n",
    "from sklearn.preprocessing import StandardScaler\n",
    "from sklearn.preprocessing import LabelEncoder"
   ]
  },
  {
   "cell_type": "code",
   "execution_count": 2,
   "id": "825c32fe",
   "metadata": {
    "scrolled": false
   },
   "outputs": [
    {
     "data": {
      "text/plain": [
       "'2.16.1'"
      ]
     },
     "execution_count": 2,
     "metadata": {},
     "output_type": "execute_result"
    }
   ],
   "source": [
    "tf.__version__"
   ]
  },
  {
   "cell_type": "code",
   "execution_count": 3,
   "id": "832009c0",
   "metadata": {},
   "outputs": [
    {
     "name": "stderr",
     "output_type": "stream",
     "text": [
      "C:\\Users\\rohit\\AppData\\Local\\Temp/ipykernel_19536/1955115205.py:4: DtypeWarning: Columns (1,3,47) have mixed types. Specify dtype option on import or set low_memory=False.\n",
      "  dfs.append(pd.read_csv(path.format(i), header = None))\n",
      "C:\\Users\\rohit\\AppData\\Local\\Temp/ipykernel_19536/1955115205.py:4: DtypeWarning: Columns (3,39,47) have mixed types. Specify dtype option on import or set low_memory=False.\n",
      "  dfs.append(pd.read_csv(path.format(i), header = None))\n"
     ]
    }
   ],
   "source": [
    "dfs = []\n",
    "for i in range(1,5):\n",
    "    path = 'UNSW-NB15_{}.csv'  # There are 4 input csv files\n",
    "    dfs.append(pd.read_csv(path.format(i), header = None))\n",
    "combined_data = pd.concat(dfs).reset_index(drop=True)  # Concat all to a single df"
   ]
  },
  {
   "cell_type": "code",
   "execution_count": 4,
   "id": "7904c52c",
   "metadata": {},
   "outputs": [
    {
     "data": {
      "text/html": [
       "<div>\n",
       "<style scoped>\n",
       "    .dataframe tbody tr th:only-of-type {\n",
       "        vertical-align: middle;\n",
       "    }\n",
       "\n",
       "    .dataframe tbody tr th {\n",
       "        vertical-align: top;\n",
       "    }\n",
       "\n",
       "    .dataframe thead th {\n",
       "        text-align: right;\n",
       "    }\n",
       "</style>\n",
       "<table border=\"1\" class=\"dataframe\">\n",
       "  <thead>\n",
       "    <tr style=\"text-align: right;\">\n",
       "      <th></th>\n",
       "      <th>0</th>\n",
       "      <th>1</th>\n",
       "      <th>2</th>\n",
       "      <th>3</th>\n",
       "      <th>4</th>\n",
       "      <th>5</th>\n",
       "      <th>6</th>\n",
       "      <th>7</th>\n",
       "      <th>8</th>\n",
       "      <th>9</th>\n",
       "      <th>...</th>\n",
       "      <th>39</th>\n",
       "      <th>40</th>\n",
       "      <th>41</th>\n",
       "      <th>42</th>\n",
       "      <th>43</th>\n",
       "      <th>44</th>\n",
       "      <th>45</th>\n",
       "      <th>46</th>\n",
       "      <th>47</th>\n",
       "      <th>48</th>\n",
       "    </tr>\n",
       "  </thead>\n",
       "  <tbody>\n",
       "    <tr>\n",
       "      <th>0</th>\n",
       "      <td>59.166.0.0</td>\n",
       "      <td>1390</td>\n",
       "      <td>149.171.126.6</td>\n",
       "      <td>53</td>\n",
       "      <td>udp</td>\n",
       "      <td>CON</td>\n",
       "      <td>0.001055</td>\n",
       "      <td>132</td>\n",
       "      <td>164</td>\n",
       "      <td>31</td>\n",
       "      <td>...</td>\n",
       "      <td>0</td>\n",
       "      <td>3</td>\n",
       "      <td>7</td>\n",
       "      <td>1</td>\n",
       "      <td>3</td>\n",
       "      <td>1</td>\n",
       "      <td>1</td>\n",
       "      <td>1</td>\n",
       "      <td>NaN</td>\n",
       "      <td>0</td>\n",
       "    </tr>\n",
       "    <tr>\n",
       "      <th>1</th>\n",
       "      <td>59.166.0.0</td>\n",
       "      <td>33661</td>\n",
       "      <td>149.171.126.9</td>\n",
       "      <td>1024</td>\n",
       "      <td>udp</td>\n",
       "      <td>CON</td>\n",
       "      <td>0.036133</td>\n",
       "      <td>528</td>\n",
       "      <td>304</td>\n",
       "      <td>31</td>\n",
       "      <td>...</td>\n",
       "      <td>0</td>\n",
       "      <td>2</td>\n",
       "      <td>4</td>\n",
       "      <td>2</td>\n",
       "      <td>3</td>\n",
       "      <td>1</td>\n",
       "      <td>1</td>\n",
       "      <td>2</td>\n",
       "      <td>NaN</td>\n",
       "      <td>0</td>\n",
       "    </tr>\n",
       "    <tr>\n",
       "      <th>2</th>\n",
       "      <td>59.166.0.6</td>\n",
       "      <td>1464</td>\n",
       "      <td>149.171.126.7</td>\n",
       "      <td>53</td>\n",
       "      <td>udp</td>\n",
       "      <td>CON</td>\n",
       "      <td>0.001119</td>\n",
       "      <td>146</td>\n",
       "      <td>178</td>\n",
       "      <td>31</td>\n",
       "      <td>...</td>\n",
       "      <td>0</td>\n",
       "      <td>12</td>\n",
       "      <td>8</td>\n",
       "      <td>1</td>\n",
       "      <td>2</td>\n",
       "      <td>2</td>\n",
       "      <td>1</td>\n",
       "      <td>1</td>\n",
       "      <td>NaN</td>\n",
       "      <td>0</td>\n",
       "    </tr>\n",
       "    <tr>\n",
       "      <th>3</th>\n",
       "      <td>59.166.0.5</td>\n",
       "      <td>3593</td>\n",
       "      <td>149.171.126.5</td>\n",
       "      <td>53</td>\n",
       "      <td>udp</td>\n",
       "      <td>CON</td>\n",
       "      <td>0.001209</td>\n",
       "      <td>132</td>\n",
       "      <td>164</td>\n",
       "      <td>31</td>\n",
       "      <td>...</td>\n",
       "      <td>0</td>\n",
       "      <td>6</td>\n",
       "      <td>9</td>\n",
       "      <td>1</td>\n",
       "      <td>1</td>\n",
       "      <td>1</td>\n",
       "      <td>1</td>\n",
       "      <td>1</td>\n",
       "      <td>NaN</td>\n",
       "      <td>0</td>\n",
       "    </tr>\n",
       "    <tr>\n",
       "      <th>4</th>\n",
       "      <td>59.166.0.3</td>\n",
       "      <td>49664</td>\n",
       "      <td>149.171.126.0</td>\n",
       "      <td>53</td>\n",
       "      <td>udp</td>\n",
       "      <td>CON</td>\n",
       "      <td>0.001169</td>\n",
       "      <td>146</td>\n",
       "      <td>178</td>\n",
       "      <td>31</td>\n",
       "      <td>...</td>\n",
       "      <td>0</td>\n",
       "      <td>7</td>\n",
       "      <td>9</td>\n",
       "      <td>1</td>\n",
       "      <td>1</td>\n",
       "      <td>1</td>\n",
       "      <td>1</td>\n",
       "      <td>1</td>\n",
       "      <td>NaN</td>\n",
       "      <td>0</td>\n",
       "    </tr>\n",
       "  </tbody>\n",
       "</table>\n",
       "<p>5 rows × 49 columns</p>\n",
       "</div>"
      ],
      "text/plain": [
       "           0      1              2     3    4    5         6    7    8   9   \\\n",
       "0  59.166.0.0   1390  149.171.126.6    53  udp  CON  0.001055  132  164  31   \n",
       "1  59.166.0.0  33661  149.171.126.9  1024  udp  CON  0.036133  528  304  31   \n",
       "2  59.166.0.6   1464  149.171.126.7    53  udp  CON  0.001119  146  178  31   \n",
       "3  59.166.0.5   3593  149.171.126.5    53  udp  CON  0.001209  132  164  31   \n",
       "4  59.166.0.3  49664  149.171.126.0    53  udp  CON  0.001169  146  178  31   \n",
       "\n",
       "   ...  39  40  41 42  43  44  45  46   47  48  \n",
       "0  ...   0   3   7  1   3   1   1   1  NaN   0  \n",
       "1  ...   0   2   4  2   3   1   1   2  NaN   0  \n",
       "2  ...   0  12   8  1   2   2   1   1  NaN   0  \n",
       "3  ...   0   6   9  1   1   1   1   1  NaN   0  \n",
       "4  ...   0   7   9  1   1   1   1   1  NaN   0  \n",
       "\n",
       "[5 rows x 49 columns]"
      ]
     },
     "execution_count": 4,
     "metadata": {},
     "output_type": "execute_result"
    }
   ],
   "source": [
    "combined_data.head()"
   ]
  },
  {
   "cell_type": "code",
   "execution_count": 5,
   "id": "40143836",
   "metadata": {},
   "outputs": [
    {
     "name": "stdout",
     "output_type": "stream",
     "text": [
      "<class 'pandas.core.frame.DataFrame'>\n",
      "RangeIndex: 49 entries, 0 to 48\n",
      "Data columns (total 4 columns):\n",
      " #   Column       Non-Null Count  Dtype \n",
      "---  ------       --------------  ----- \n",
      " 0   No.          49 non-null     int64 \n",
      " 1   Name         49 non-null     object\n",
      " 2   Type         49 non-null     object\n",
      " 3   Description  49 non-null     object\n",
      "dtypes: int64(1), object(3)\n",
      "memory usage: 1.7+ KB\n"
     ]
    }
   ],
   "source": [
    "dataset_columns = pd.read_csv('NUSW-NB15_features.csv',encoding='ISO-8859-1')\n",
    "dataset_columns.info()"
   ]
  },
  {
   "cell_type": "code",
   "execution_count": 6,
   "id": "eba1a0b4",
   "metadata": {},
   "outputs": [
    {
     "name": "stdout",
     "output_type": "stream",
     "text": [
      "<class 'pandas.core.frame.DataFrame'>\n",
      "RangeIndex: 2540047 entries, 0 to 2540046\n",
      "Data columns (total 49 columns):\n",
      " #   Column            Dtype  \n",
      "---  ------            -----  \n",
      " 0   srcip             object \n",
      " 1   sport             object \n",
      " 2   dstip             object \n",
      " 3   dsport            object \n",
      " 4   proto             object \n",
      " 5   state             object \n",
      " 6   dur               float64\n",
      " 7   sbytes            int64  \n",
      " 8   dbytes            int64  \n",
      " 9   sttl              int64  \n",
      " 10  dttl              int64  \n",
      " 11  sloss             int64  \n",
      " 12  dloss             int64  \n",
      " 13  service           object \n",
      " 14  Sload             float64\n",
      " 15  Dload             float64\n",
      " 16  Spkts             int64  \n",
      " 17  Dpkts             int64  \n",
      " 18  swin              int64  \n",
      " 19  dwin              int64  \n",
      " 20  stcpb             int64  \n",
      " 21  dtcpb             int64  \n",
      " 22  smeansz           int64  \n",
      " 23  dmeansz           int64  \n",
      " 24  trans_depth       int64  \n",
      " 25  res_bdy_len       int64  \n",
      " 26  Sjit              float64\n",
      " 27  Djit              float64\n",
      " 28  Stime             int64  \n",
      " 29  Ltime             int64  \n",
      " 30  Sintpkt           float64\n",
      " 31  Dintpkt           float64\n",
      " 32  tcprtt            float64\n",
      " 33  synack            float64\n",
      " 34  ackdat            float64\n",
      " 35  is_sm_ips_ports   int64  \n",
      " 36  ct_state_ttl      int64  \n",
      " 37  ct_flw_http_mthd  float64\n",
      " 38  is_ftp_login      float64\n",
      " 39  ct_ftp_cmd        object \n",
      " 40  ct_srv_src        int64  \n",
      " 41  ct_srv_dst        int64  \n",
      " 42  ct_dst_ltm        int64  \n",
      " 43  ct_src_ ltm       int64  \n",
      " 44  ct_src_dport_ltm  int64  \n",
      " 45  ct_dst_sport_ltm  int64  \n",
      " 46  ct_dst_src_ltm    int64  \n",
      " 47  attack_cat        object \n",
      " 48  Label             int64  \n",
      "dtypes: float64(12), int64(28), object(9)\n",
      "memory usage: 949.6+ MB\n"
     ]
    }
   ],
   "source": [
    "combined_data.columns = dataset_columns['Name']\n",
    "combined_data.info()"
   ]
  },
  {
   "cell_type": "code",
   "execution_count": 7,
   "id": "a7dd20bc",
   "metadata": {},
   "outputs": [
    {
     "data": {
      "text/html": [
       "<div>\n",
       "<style scoped>\n",
       "    .dataframe tbody tr th:only-of-type {\n",
       "        vertical-align: middle;\n",
       "    }\n",
       "\n",
       "    .dataframe tbody tr th {\n",
       "        vertical-align: top;\n",
       "    }\n",
       "\n",
       "    .dataframe thead th {\n",
       "        text-align: right;\n",
       "    }\n",
       "</style>\n",
       "<table border=\"1\" class=\"dataframe\">\n",
       "  <thead>\n",
       "    <tr style=\"text-align: right;\">\n",
       "      <th>Name</th>\n",
       "      <th>srcip</th>\n",
       "      <th>sport</th>\n",
       "      <th>dstip</th>\n",
       "      <th>dsport</th>\n",
       "      <th>proto</th>\n",
       "      <th>state</th>\n",
       "      <th>dur</th>\n",
       "      <th>sbytes</th>\n",
       "      <th>dbytes</th>\n",
       "      <th>sttl</th>\n",
       "      <th>...</th>\n",
       "      <th>ct_ftp_cmd</th>\n",
       "      <th>ct_srv_src</th>\n",
       "      <th>ct_srv_dst</th>\n",
       "      <th>ct_dst_ltm</th>\n",
       "      <th>ct_src_ ltm</th>\n",
       "      <th>ct_src_dport_ltm</th>\n",
       "      <th>ct_dst_sport_ltm</th>\n",
       "      <th>ct_dst_src_ltm</th>\n",
       "      <th>attack_cat</th>\n",
       "      <th>Label</th>\n",
       "    </tr>\n",
       "  </thead>\n",
       "  <tbody>\n",
       "    <tr>\n",
       "      <th>0</th>\n",
       "      <td>59.166.0.0</td>\n",
       "      <td>1390</td>\n",
       "      <td>149.171.126.6</td>\n",
       "      <td>53</td>\n",
       "      <td>udp</td>\n",
       "      <td>CON</td>\n",
       "      <td>0.001055</td>\n",
       "      <td>132</td>\n",
       "      <td>164</td>\n",
       "      <td>31</td>\n",
       "      <td>...</td>\n",
       "      <td>0</td>\n",
       "      <td>3</td>\n",
       "      <td>7</td>\n",
       "      <td>1</td>\n",
       "      <td>3</td>\n",
       "      <td>1</td>\n",
       "      <td>1</td>\n",
       "      <td>1</td>\n",
       "      <td>NaN</td>\n",
       "      <td>0</td>\n",
       "    </tr>\n",
       "    <tr>\n",
       "      <th>1</th>\n",
       "      <td>59.166.0.0</td>\n",
       "      <td>33661</td>\n",
       "      <td>149.171.126.9</td>\n",
       "      <td>1024</td>\n",
       "      <td>udp</td>\n",
       "      <td>CON</td>\n",
       "      <td>0.036133</td>\n",
       "      <td>528</td>\n",
       "      <td>304</td>\n",
       "      <td>31</td>\n",
       "      <td>...</td>\n",
       "      <td>0</td>\n",
       "      <td>2</td>\n",
       "      <td>4</td>\n",
       "      <td>2</td>\n",
       "      <td>3</td>\n",
       "      <td>1</td>\n",
       "      <td>1</td>\n",
       "      <td>2</td>\n",
       "      <td>NaN</td>\n",
       "      <td>0</td>\n",
       "    </tr>\n",
       "    <tr>\n",
       "      <th>2</th>\n",
       "      <td>59.166.0.6</td>\n",
       "      <td>1464</td>\n",
       "      <td>149.171.126.7</td>\n",
       "      <td>53</td>\n",
       "      <td>udp</td>\n",
       "      <td>CON</td>\n",
       "      <td>0.001119</td>\n",
       "      <td>146</td>\n",
       "      <td>178</td>\n",
       "      <td>31</td>\n",
       "      <td>...</td>\n",
       "      <td>0</td>\n",
       "      <td>12</td>\n",
       "      <td>8</td>\n",
       "      <td>1</td>\n",
       "      <td>2</td>\n",
       "      <td>2</td>\n",
       "      <td>1</td>\n",
       "      <td>1</td>\n",
       "      <td>NaN</td>\n",
       "      <td>0</td>\n",
       "    </tr>\n",
       "    <tr>\n",
       "      <th>3</th>\n",
       "      <td>59.166.0.5</td>\n",
       "      <td>3593</td>\n",
       "      <td>149.171.126.5</td>\n",
       "      <td>53</td>\n",
       "      <td>udp</td>\n",
       "      <td>CON</td>\n",
       "      <td>0.001209</td>\n",
       "      <td>132</td>\n",
       "      <td>164</td>\n",
       "      <td>31</td>\n",
       "      <td>...</td>\n",
       "      <td>0</td>\n",
       "      <td>6</td>\n",
       "      <td>9</td>\n",
       "      <td>1</td>\n",
       "      <td>1</td>\n",
       "      <td>1</td>\n",
       "      <td>1</td>\n",
       "      <td>1</td>\n",
       "      <td>NaN</td>\n",
       "      <td>0</td>\n",
       "    </tr>\n",
       "    <tr>\n",
       "      <th>4</th>\n",
       "      <td>59.166.0.3</td>\n",
       "      <td>49664</td>\n",
       "      <td>149.171.126.0</td>\n",
       "      <td>53</td>\n",
       "      <td>udp</td>\n",
       "      <td>CON</td>\n",
       "      <td>0.001169</td>\n",
       "      <td>146</td>\n",
       "      <td>178</td>\n",
       "      <td>31</td>\n",
       "      <td>...</td>\n",
       "      <td>0</td>\n",
       "      <td>7</td>\n",
       "      <td>9</td>\n",
       "      <td>1</td>\n",
       "      <td>1</td>\n",
       "      <td>1</td>\n",
       "      <td>1</td>\n",
       "      <td>1</td>\n",
       "      <td>NaN</td>\n",
       "      <td>0</td>\n",
       "    </tr>\n",
       "  </tbody>\n",
       "</table>\n",
       "<p>5 rows × 49 columns</p>\n",
       "</div>"
      ],
      "text/plain": [
       "Name       srcip  sport          dstip dsport proto state       dur  sbytes  \\\n",
       "0     59.166.0.0   1390  149.171.126.6     53   udp   CON  0.001055     132   \n",
       "1     59.166.0.0  33661  149.171.126.9   1024   udp   CON  0.036133     528   \n",
       "2     59.166.0.6   1464  149.171.126.7     53   udp   CON  0.001119     146   \n",
       "3     59.166.0.5   3593  149.171.126.5     53   udp   CON  0.001209     132   \n",
       "4     59.166.0.3  49664  149.171.126.0     53   udp   CON  0.001169     146   \n",
       "\n",
       "Name  dbytes  sttl  ...  ct_ftp_cmd  ct_srv_src  ct_srv_dst ct_dst_ltm  \\\n",
       "0        164    31  ...           0           3           7          1   \n",
       "1        304    31  ...           0           2           4          2   \n",
       "2        178    31  ...           0          12           8          1   \n",
       "3        164    31  ...           0           6           9          1   \n",
       "4        178    31  ...           0           7           9          1   \n",
       "\n",
       "Name  ct_src_ ltm  ct_src_dport_ltm  ct_dst_sport_ltm  ct_dst_src_ltm  \\\n",
       "0               3                 1                 1               1   \n",
       "1               3                 1                 1               2   \n",
       "2               2                 2                 1               1   \n",
       "3               1                 1                 1               1   \n",
       "4               1                 1                 1               1   \n",
       "\n",
       "Name  attack_cat  Label  \n",
       "0            NaN      0  \n",
       "1            NaN      0  \n",
       "2            NaN      0  \n",
       "3            NaN      0  \n",
       "4            NaN      0  \n",
       "\n",
       "[5 rows x 49 columns]"
      ]
     },
     "execution_count": 7,
     "metadata": {},
     "output_type": "execute_result"
    }
   ],
   "source": [
    "combined_data.head()"
   ]
  },
  {
   "cell_type": "code",
   "execution_count": 8,
   "id": "161f716c",
   "metadata": {},
   "outputs": [],
   "source": [
    "#Data Cleaning"
   ]
  },
  {
   "cell_type": "code",
   "execution_count": 9,
   "id": "acd9569a",
   "metadata": {},
   "outputs": [
    {
     "data": {
      "text/plain": [
       "Label\n",
       "0    2218764\n",
       "1     321283\n",
       "Name: count, dtype: int64"
      ]
     },
     "execution_count": 9,
     "metadata": {},
     "output_type": "execute_result"
    }
   ],
   "source": [
    "combined_data['Label'].value_counts()"
   ]
  },
  {
   "cell_type": "code",
   "execution_count": 10,
   "id": "c1654800",
   "metadata": {},
   "outputs": [
    {
     "data": {
      "text/plain": [
       "2218764"
      ]
     },
     "execution_count": 10,
     "metadata": {},
     "output_type": "execute_result"
    }
   ],
   "source": [
    "combined_data['attack_cat'].isnull().sum()"
   ]
  },
  {
   "cell_type": "code",
   "execution_count": 11,
   "id": "0665b87d",
   "metadata": {},
   "outputs": [],
   "source": [
    "combined_data['attack_cat'] = combined_data['attack_cat'].fillna(value='normal').apply(lambda x: x.strip().lower())"
   ]
  },
  {
   "cell_type": "code",
   "execution_count": 12,
   "id": "ab70b5b2",
   "metadata": {},
   "outputs": [
    {
     "data": {
      "text/plain": [
       "attack_cat\n",
       "normal            2218764\n",
       "generic            215481\n",
       "exploits            44525\n",
       "fuzzers             24246\n",
       "dos                 16353\n",
       "reconnaissance      13987\n",
       "analysis             2677\n",
       "backdoor             1795\n",
       "shellcode            1511\n",
       "backdoors             534\n",
       "worms                 174\n",
       "Name: count, dtype: int64"
      ]
     },
     "execution_count": 12,
     "metadata": {},
     "output_type": "execute_result"
    }
   ],
   "source": [
    "combined_data['attack_cat'].value_counts()"
   ]
  },
  {
   "cell_type": "code",
   "execution_count": 13,
   "id": "03c92e45",
   "metadata": {},
   "outputs": [],
   "source": [
    "combined_data['attack_cat'] = combined_data['attack_cat'].replace('backdoors','backdoor', regex=True).apply(lambda x: x.strip().lower())"
   ]
  },
  {
   "cell_type": "code",
   "execution_count": 14,
   "id": "a7b60f27",
   "metadata": {},
   "outputs": [
    {
     "data": {
      "text/plain": [
       "attack_cat\n",
       "normal            2218764\n",
       "generic            215481\n",
       "exploits            44525\n",
       "fuzzers             24246\n",
       "dos                 16353\n",
       "reconnaissance      13987\n",
       "analysis             2677\n",
       "backdoor             2329\n",
       "shellcode            1511\n",
       "worms                 174\n",
       "Name: count, dtype: int64"
      ]
     },
     "execution_count": 14,
     "metadata": {},
     "output_type": "execute_result"
    }
   ],
   "source": [
    "combined_data['attack_cat'].value_counts()"
   ]
  },
  {
   "cell_type": "code",
   "execution_count": 15,
   "id": "a97d45df",
   "metadata": {},
   "outputs": [
    {
     "data": {
      "text/plain": [
       "Name\n",
       "srcip                     0\n",
       "sport                     0\n",
       "dstip                     0\n",
       "dsport                    0\n",
       "proto                     0\n",
       "state                     0\n",
       "dur                       0\n",
       "sbytes                    0\n",
       "dbytes                    0\n",
       "sttl                      0\n",
       "dttl                      0\n",
       "sloss                     0\n",
       "dloss                     0\n",
       "service                   0\n",
       "Sload                     0\n",
       "Dload                     0\n",
       "Spkts                     0\n",
       "Dpkts                     0\n",
       "swin                      0\n",
       "dwin                      0\n",
       "stcpb                     0\n",
       "dtcpb                     0\n",
       "smeansz                   0\n",
       "dmeansz                   0\n",
       "trans_depth               0\n",
       "res_bdy_len               0\n",
       "Sjit                      0\n",
       "Djit                      0\n",
       "Stime                     0\n",
       "Ltime                     0\n",
       "Sintpkt                   0\n",
       "Dintpkt                   0\n",
       "tcprtt                    0\n",
       "synack                    0\n",
       "ackdat                    0\n",
       "is_sm_ips_ports           0\n",
       "ct_state_ttl              0\n",
       "ct_flw_http_mthd    1348145\n",
       "is_ftp_login        1429879\n",
       "ct_ftp_cmd                0\n",
       "ct_srv_src                0\n",
       "ct_srv_dst                0\n",
       "ct_dst_ltm                0\n",
       "ct_src_ ltm               0\n",
       "ct_src_dport_ltm          0\n",
       "ct_dst_sport_ltm          0\n",
       "ct_dst_src_ltm            0\n",
       "attack_cat                0\n",
       "Label                     0\n",
       "dtype: int64"
      ]
     },
     "execution_count": 15,
     "metadata": {},
     "output_type": "execute_result"
    }
   ],
   "source": [
    "combined_data.isnull().sum()"
   ]
  },
  {
   "cell_type": "code",
   "execution_count": 16,
   "id": "956d756e",
   "metadata": {},
   "outputs": [],
   "source": [
    "combined_data['ct_flw_http_mthd'] = combined_data['ct_flw_http_mthd'].fillna(value=0)"
   ]
  },
  {
   "cell_type": "code",
   "execution_count": 17,
   "id": "6cfb82ca",
   "metadata": {},
   "outputs": [
    {
     "data": {
      "text/plain": [
       "is_ftp_login\n",
       "0.0    1066593\n",
       "1.0      43389\n",
       "4.0        156\n",
       "2.0         30\n",
       "Name: count, dtype: int64"
      ]
     },
     "execution_count": 17,
     "metadata": {},
     "output_type": "execute_result"
    }
   ],
   "source": [
    "combined_data['is_ftp_login'].value_counts()"
   ]
  },
  {
   "cell_type": "code",
   "execution_count": 18,
   "id": "d0fb7f91",
   "metadata": {},
   "outputs": [],
   "source": [
    "combined_data['is_ftp_login'] = combined_data['is_ftp_login'].fillna(value=0)"
   ]
  },
  {
   "cell_type": "code",
   "execution_count": 19,
   "id": "b09b33b8",
   "metadata": {},
   "outputs": [
    {
     "data": {
      "text/plain": [
       "is_ftp_login\n",
       "0.0    2496472\n",
       "1.0      43389\n",
       "4.0        156\n",
       "2.0         30\n",
       "Name: count, dtype: int64"
      ]
     },
     "execution_count": 19,
     "metadata": {},
     "output_type": "execute_result"
    }
   ],
   "source": [
    "combined_data['is_ftp_login'].value_counts()"
   ]
  },
  {
   "cell_type": "code",
   "execution_count": 20,
   "id": "4e3811cb",
   "metadata": {},
   "outputs": [],
   "source": [
    "combined_data['is_ftp_login'] = np.where(combined_data['is_ftp_login']>1, 1, combined_data['is_ftp_login'])"
   ]
  },
  {
   "cell_type": "code",
   "execution_count": 21,
   "id": "1b28ecff",
   "metadata": {},
   "outputs": [
    {
     "data": {
      "text/plain": [
       "is_ftp_login\n",
       "0.0    2496472\n",
       "1.0      43575\n",
       "Name: count, dtype: int64"
      ]
     },
     "execution_count": 21,
     "metadata": {},
     "output_type": "execute_result"
    }
   ],
   "source": [
    "combined_data['is_ftp_login'].value_counts()"
   ]
  },
  {
   "cell_type": "code",
   "execution_count": 22,
   "id": "2f5daf7d",
   "metadata": {},
   "outputs": [
    {
     "data": {
      "text/plain": [
       "service\n",
       "-           1246397\n",
       "dns          781668\n",
       "http         206273\n",
       "ftp-data     125783\n",
       "smtp          81645\n",
       "ftp           49090\n",
       "ssh           47160\n",
       "pop3           1533\n",
       "dhcp            172\n",
       "ssl             142\n",
       "snmp            113\n",
       "radius           40\n",
       "irc              31\n",
       "Name: count, dtype: int64"
      ]
     },
     "execution_count": 22,
     "metadata": {},
     "output_type": "execute_result"
    }
   ],
   "source": [
    "combined_data['service'].value_counts()"
   ]
  },
  {
   "cell_type": "code",
   "execution_count": 23,
   "id": "fb5ff3ad",
   "metadata": {},
   "outputs": [],
   "source": [
    "combined_data['service'] = combined_data['service'].apply(lambda x:\"None\" if x=='-' else x)"
   ]
  },
  {
   "cell_type": "code",
   "execution_count": 24,
   "id": "132b97f9",
   "metadata": {},
   "outputs": [
    {
     "data": {
      "text/plain": [
       "service\n",
       "None        1246397\n",
       "dns          781668\n",
       "http         206273\n",
       "ftp-data     125783\n",
       "smtp          81645\n",
       "ftp           49090\n",
       "ssh           47160\n",
       "pop3           1533\n",
       "dhcp            172\n",
       "ssl             142\n",
       "snmp            113\n",
       "radius           40\n",
       "irc              31\n",
       "Name: count, dtype: int64"
      ]
     },
     "execution_count": 24,
     "metadata": {},
     "output_type": "execute_result"
    }
   ],
   "source": [
    "combined_data['service'].value_counts()"
   ]
  },
  {
   "cell_type": "code",
   "execution_count": 25,
   "id": "5af19891",
   "metadata": {},
   "outputs": [
    {
     "data": {
      "text/plain": [
       "array([0, 1, 6, 2, 4, 8, 5, 3, '0', '1', ' ', '2', '4'], dtype=object)"
      ]
     },
     "execution_count": 25,
     "metadata": {},
     "output_type": "execute_result"
    }
   ],
   "source": [
    "combined_data['ct_ftp_cmd'].unique()"
   ]
  },
  {
   "cell_type": "code",
   "execution_count": 26,
   "id": "da6d47b4",
   "metadata": {},
   "outputs": [],
   "source": [
    "combined_data['ct_ftp_cmd'] = combined_data['ct_ftp_cmd'].replace(to_replace=' ', value=0).astype(int)"
   ]
  },
  {
   "cell_type": "code",
   "execution_count": 27,
   "id": "d2fd2b42",
   "metadata": {},
   "outputs": [
    {
     "data": {
      "text/plain": [
       "array([0, 1, 6, 2, 4, 8, 5, 3])"
      ]
     },
     "execution_count": 27,
     "metadata": {},
     "output_type": "execute_result"
    }
   ],
   "source": [
    "combined_data['ct_ftp_cmd'].unique()"
   ]
  },
  {
   "cell_type": "code",
   "execution_count": 28,
   "id": "d68ecfb4",
   "metadata": {},
   "outputs": [
    {
     "data": {
      "text/html": [
       "<div>\n",
       "<style scoped>\n",
       "    .dataframe tbody tr th:only-of-type {\n",
       "        vertical-align: middle;\n",
       "    }\n",
       "\n",
       "    .dataframe tbody tr th {\n",
       "        vertical-align: top;\n",
       "    }\n",
       "\n",
       "    .dataframe thead th {\n",
       "        text-align: right;\n",
       "    }\n",
       "</style>\n",
       "<table border=\"1\" class=\"dataframe\">\n",
       "  <thead>\n",
       "    <tr style=\"text-align: right;\">\n",
       "      <th>Name</th>\n",
       "      <th>service</th>\n",
       "      <th>ct_flw_http_mthd</th>\n",
       "      <th>is_ftp_login</th>\n",
       "      <th>ct_ftp_cmd</th>\n",
       "      <th>attack_cat</th>\n",
       "      <th>Label</th>\n",
       "    </tr>\n",
       "  </thead>\n",
       "  <tbody>\n",
       "    <tr>\n",
       "      <th>0</th>\n",
       "      <td>dns</td>\n",
       "      <td>0.0</td>\n",
       "      <td>0.0</td>\n",
       "      <td>0</td>\n",
       "      <td>normal</td>\n",
       "      <td>0</td>\n",
       "    </tr>\n",
       "    <tr>\n",
       "      <th>1</th>\n",
       "      <td>None</td>\n",
       "      <td>0.0</td>\n",
       "      <td>0.0</td>\n",
       "      <td>0</td>\n",
       "      <td>normal</td>\n",
       "      <td>0</td>\n",
       "    </tr>\n",
       "    <tr>\n",
       "      <th>2</th>\n",
       "      <td>dns</td>\n",
       "      <td>0.0</td>\n",
       "      <td>0.0</td>\n",
       "      <td>0</td>\n",
       "      <td>normal</td>\n",
       "      <td>0</td>\n",
       "    </tr>\n",
       "    <tr>\n",
       "      <th>3</th>\n",
       "      <td>dns</td>\n",
       "      <td>0.0</td>\n",
       "      <td>0.0</td>\n",
       "      <td>0</td>\n",
       "      <td>normal</td>\n",
       "      <td>0</td>\n",
       "    </tr>\n",
       "    <tr>\n",
       "      <th>4</th>\n",
       "      <td>dns</td>\n",
       "      <td>0.0</td>\n",
       "      <td>0.0</td>\n",
       "      <td>0</td>\n",
       "      <td>normal</td>\n",
       "      <td>0</td>\n",
       "    </tr>\n",
       "    <tr>\n",
       "      <th>...</th>\n",
       "      <td>...</td>\n",
       "      <td>...</td>\n",
       "      <td>...</td>\n",
       "      <td>...</td>\n",
       "      <td>...</td>\n",
       "      <td>...</td>\n",
       "    </tr>\n",
       "    <tr>\n",
       "      <th>2540042</th>\n",
       "      <td>ftp-data</td>\n",
       "      <td>0.0</td>\n",
       "      <td>0.0</td>\n",
       "      <td>0</td>\n",
       "      <td>normal</td>\n",
       "      <td>0</td>\n",
       "    </tr>\n",
       "    <tr>\n",
       "      <th>2540043</th>\n",
       "      <td>ftp</td>\n",
       "      <td>0.0</td>\n",
       "      <td>1.0</td>\n",
       "      <td>2</td>\n",
       "      <td>normal</td>\n",
       "      <td>0</td>\n",
       "    </tr>\n",
       "    <tr>\n",
       "      <th>2540044</th>\n",
       "      <td>ftp</td>\n",
       "      <td>0.0</td>\n",
       "      <td>1.0</td>\n",
       "      <td>2</td>\n",
       "      <td>normal</td>\n",
       "      <td>0</td>\n",
       "    </tr>\n",
       "    <tr>\n",
       "      <th>2540045</th>\n",
       "      <td>http</td>\n",
       "      <td>2.0</td>\n",
       "      <td>0.0</td>\n",
       "      <td>0</td>\n",
       "      <td>normal</td>\n",
       "      <td>0</td>\n",
       "    </tr>\n",
       "    <tr>\n",
       "      <th>2540046</th>\n",
       "      <td>pop3</td>\n",
       "      <td>0.0</td>\n",
       "      <td>0.0</td>\n",
       "      <td>0</td>\n",
       "      <td>exploits</td>\n",
       "      <td>1</td>\n",
       "    </tr>\n",
       "  </tbody>\n",
       "</table>\n",
       "<p>2540047 rows × 6 columns</p>\n",
       "</div>"
      ],
      "text/plain": [
       "Name      service  ct_flw_http_mthd  is_ftp_login  ct_ftp_cmd attack_cat  \\\n",
       "0             dns               0.0           0.0           0     normal   \n",
       "1            None               0.0           0.0           0     normal   \n",
       "2             dns               0.0           0.0           0     normal   \n",
       "3             dns               0.0           0.0           0     normal   \n",
       "4             dns               0.0           0.0           0     normal   \n",
       "...           ...               ...           ...         ...        ...   \n",
       "2540042  ftp-data               0.0           0.0           0     normal   \n",
       "2540043       ftp               0.0           1.0           2     normal   \n",
       "2540044       ftp               0.0           1.0           2     normal   \n",
       "2540045      http               2.0           0.0           0     normal   \n",
       "2540046      pop3               0.0           0.0           0   exploits   \n",
       "\n",
       "Name     Label  \n",
       "0            0  \n",
       "1            0  \n",
       "2            0  \n",
       "3            0  \n",
       "4            0  \n",
       "...        ...  \n",
       "2540042      0  \n",
       "2540043      0  \n",
       "2540044      0  \n",
       "2540045      0  \n",
       "2540046      1  \n",
       "\n",
       "[2540047 rows x 6 columns]"
      ]
     },
     "execution_count": 28,
     "metadata": {},
     "output_type": "execute_result"
    }
   ],
   "source": [
    "combined_data[['service','ct_flw_http_mthd','is_ftp_login','ct_ftp_cmd','attack_cat','Label']]"
   ]
  },
  {
   "cell_type": "code",
   "execution_count": 29,
   "id": "316c89a6",
   "metadata": {},
   "outputs": [
    {
     "data": {
      "text/plain": [
       "10"
      ]
     },
     "execution_count": 29,
     "metadata": {},
     "output_type": "execute_result"
    }
   ],
   "source": [
    "combined_data['attack_cat'].nunique()"
   ]
  },
  {
   "cell_type": "code",
   "execution_count": 30,
   "id": "a611f349",
   "metadata": {},
   "outputs": [
    {
     "name": "stdout",
     "output_type": "stream",
     "text": [
      "<class 'pandas.core.frame.DataFrame'>\n",
      "RangeIndex: 2540047 entries, 0 to 2540046\n",
      "Data columns (total 49 columns):\n",
      " #   Column            Dtype  \n",
      "---  ------            -----  \n",
      " 0   srcip             object \n",
      " 1   sport             object \n",
      " 2   dstip             object \n",
      " 3   dsport            object \n",
      " 4   proto             object \n",
      " 5   state             object \n",
      " 6   dur               float64\n",
      " 7   sbytes            int64  \n",
      " 8   dbytes            int64  \n",
      " 9   sttl              int64  \n",
      " 10  dttl              int64  \n",
      " 11  sloss             int64  \n",
      " 12  dloss             int64  \n",
      " 13  service           object \n",
      " 14  Sload             float64\n",
      " 15  Dload             float64\n",
      " 16  Spkts             int64  \n",
      " 17  Dpkts             int64  \n",
      " 18  swin              int64  \n",
      " 19  dwin              int64  \n",
      " 20  stcpb             int64  \n",
      " 21  dtcpb             int64  \n",
      " 22  smeansz           int64  \n",
      " 23  dmeansz           int64  \n",
      " 24  trans_depth       int64  \n",
      " 25  res_bdy_len       int64  \n",
      " 26  Sjit              float64\n",
      " 27  Djit              float64\n",
      " 28  Stime             int64  \n",
      " 29  Ltime             int64  \n",
      " 30  Sintpkt           float64\n",
      " 31  Dintpkt           float64\n",
      " 32  tcprtt            float64\n",
      " 33  synack            float64\n",
      " 34  ackdat            float64\n",
      " 35  is_sm_ips_ports   int64  \n",
      " 36  ct_state_ttl      int64  \n",
      " 37  ct_flw_http_mthd  float64\n",
      " 38  is_ftp_login      float64\n",
      " 39  ct_ftp_cmd        int32  \n",
      " 40  ct_srv_src        int64  \n",
      " 41  ct_srv_dst        int64  \n",
      " 42  ct_dst_ltm        int64  \n",
      " 43  ct_src_ ltm       int64  \n",
      " 44  ct_src_dport_ltm  int64  \n",
      " 45  ct_dst_sport_ltm  int64  \n",
      " 46  ct_dst_src_ltm    int64  \n",
      " 47  attack_cat        object \n",
      " 48  Label             int64  \n",
      "dtypes: float64(12), int32(1), int64(28), object(8)\n",
      "memory usage: 939.9+ MB\n"
     ]
    }
   ],
   "source": [
    "combined_data.info()"
   ]
  },
  {
   "cell_type": "code",
   "execution_count": 31,
   "id": "8943f2dd",
   "metadata": {},
   "outputs": [
    {
     "data": {
      "text/plain": [
       "(2540047, 49)"
      ]
     },
     "execution_count": 31,
     "metadata": {},
     "output_type": "execute_result"
    }
   ],
   "source": [
    "combined_data.shape"
   ]
  },
  {
   "cell_type": "code",
   "execution_count": 32,
   "id": "e9ac51a6",
   "metadata": {},
   "outputs": [],
   "source": [
    "combined_data.drop(columns=['srcip','sport','dstip','dsport','Label'],inplace=True)"
   ]
  },
  {
   "cell_type": "code",
   "execution_count": 33,
   "id": "ff67c48c",
   "metadata": {},
   "outputs": [
    {
     "name": "stdout",
     "output_type": "stream",
     "text": [
      "<class 'pandas.core.frame.DataFrame'>\n",
      "RangeIndex: 2540047 entries, 0 to 2540046\n",
      "Data columns (total 44 columns):\n",
      " #   Column            Dtype  \n",
      "---  ------            -----  \n",
      " 0   proto             object \n",
      " 1   state             object \n",
      " 2   dur               float64\n",
      " 3   sbytes            int64  \n",
      " 4   dbytes            int64  \n",
      " 5   sttl              int64  \n",
      " 6   dttl              int64  \n",
      " 7   sloss             int64  \n",
      " 8   dloss             int64  \n",
      " 9   service           object \n",
      " 10  Sload             float64\n",
      " 11  Dload             float64\n",
      " 12  Spkts             int64  \n",
      " 13  Dpkts             int64  \n",
      " 14  swin              int64  \n",
      " 15  dwin              int64  \n",
      " 16  stcpb             int64  \n",
      " 17  dtcpb             int64  \n",
      " 18  smeansz           int64  \n",
      " 19  dmeansz           int64  \n",
      " 20  trans_depth       int64  \n",
      " 21  res_bdy_len       int64  \n",
      " 22  Sjit              float64\n",
      " 23  Djit              float64\n",
      " 24  Stime             int64  \n",
      " 25  Ltime             int64  \n",
      " 26  Sintpkt           float64\n",
      " 27  Dintpkt           float64\n",
      " 28  tcprtt            float64\n",
      " 29  synack            float64\n",
      " 30  ackdat            float64\n",
      " 31  is_sm_ips_ports   int64  \n",
      " 32  ct_state_ttl      int64  \n",
      " 33  ct_flw_http_mthd  float64\n",
      " 34  is_ftp_login      float64\n",
      " 35  ct_ftp_cmd        int32  \n",
      " 36  ct_srv_src        int64  \n",
      " 37  ct_srv_dst        int64  \n",
      " 38  ct_dst_ltm        int64  \n",
      " 39  ct_src_ ltm       int64  \n",
      " 40  ct_src_dport_ltm  int64  \n",
      " 41  ct_dst_sport_ltm  int64  \n",
      " 42  ct_dst_src_ltm    int64  \n",
      " 43  attack_cat        object \n",
      "dtypes: float64(12), int32(1), int64(27), object(4)\n",
      "memory usage: 843.0+ MB\n"
     ]
    }
   ],
   "source": [
    "combined_data.info()"
   ]
  },
  {
   "cell_type": "code",
   "execution_count": 34,
   "id": "c67a4190",
   "metadata": {},
   "outputs": [
    {
     "data": {
      "text/plain": [
       "(2540047, 44)"
      ]
     },
     "execution_count": 34,
     "metadata": {},
     "output_type": "execute_result"
    }
   ],
   "source": [
    "combined_data.shape"
   ]
  },
  {
   "cell_type": "code",
   "execution_count": 35,
   "id": "eb7609cd",
   "metadata": {},
   "outputs": [],
   "source": [
    "train, test = train_test_split(combined_data,test_size=0.2,random_state=16)\n",
    "train, val = train_test_split(train,test_size=0.2,random_state=16)"
   ]
  },
  {
   "cell_type": "code",
   "execution_count": 36,
   "id": "dc76a3e9",
   "metadata": {},
   "outputs": [
    {
     "data": {
      "text/plain": [
       "(1625629, 44)"
      ]
     },
     "execution_count": 36,
     "metadata": {},
     "output_type": "execute_result"
    }
   ],
   "source": [
    "train.shape"
   ]
  },
  {
   "cell_type": "code",
   "execution_count": 37,
   "id": "214e6c64",
   "metadata": {},
   "outputs": [
    {
     "data": {
      "text/plain": [
       "(508010, 44)"
      ]
     },
     "execution_count": 37,
     "metadata": {},
     "output_type": "execute_result"
    }
   ],
   "source": [
    "test.shape"
   ]
  },
  {
   "cell_type": "code",
   "execution_count": 38,
   "id": "f4f066a1",
   "metadata": {},
   "outputs": [],
   "source": [
    "x_train, y_train = train.drop(columns=['attack_cat']), train[['attack_cat']]\n",
    "x_test, y_test = test.drop(columns=['attack_cat']), test[['attack_cat']]\n",
    "x_val, y_val = val.drop(columns=['attack_cat']), val[['attack_cat']]"
   ]
  },
  {
   "cell_type": "code",
   "execution_count": 39,
   "id": "77ac6bce",
   "metadata": {},
   "outputs": [
    {
     "data": {
      "text/plain": [
       "((1625629, 43), (1625629, 1))"
      ]
     },
     "execution_count": 39,
     "metadata": {},
     "output_type": "execute_result"
    }
   ],
   "source": [
    "x_train.shape, y_train.shape"
   ]
  },
  {
   "cell_type": "code",
   "execution_count": 40,
   "id": "833ea1a0",
   "metadata": {},
   "outputs": [
    {
     "data": {
      "text/plain": [
       "((508010, 43), (508010, 1))"
      ]
     },
     "execution_count": 40,
     "metadata": {},
     "output_type": "execute_result"
    }
   ],
   "source": [
    "x_test.shape, y_test.shape"
   ]
  },
  {
   "cell_type": "code",
   "execution_count": 41,
   "id": "4862465c",
   "metadata": {},
   "outputs": [
    {
     "data": {
      "text/plain": [
       "((406408, 43), (406408, 1))"
      ]
     },
     "execution_count": 41,
     "metadata": {},
     "output_type": "execute_result"
    }
   ],
   "source": [
    "x_val.shape, y_val.shape"
   ]
  },
  {
   "cell_type": "code",
   "execution_count": 42,
   "id": "9dad0365",
   "metadata": {},
   "outputs": [
    {
     "name": "stdout",
     "output_type": "stream",
     "text": [
      "<class 'pandas.core.frame.DataFrame'>\n",
      "Index: 1625629 entries, 1070804 to 2148776\n",
      "Data columns (total 44 columns):\n",
      " #   Column            Non-Null Count    Dtype  \n",
      "---  ------            --------------    -----  \n",
      " 0   proto             1625629 non-null  object \n",
      " 1   state             1625629 non-null  object \n",
      " 2   dur               1625629 non-null  float64\n",
      " 3   sbytes            1625629 non-null  int64  \n",
      " 4   dbytes            1625629 non-null  int64  \n",
      " 5   sttl              1625629 non-null  int64  \n",
      " 6   dttl              1625629 non-null  int64  \n",
      " 7   sloss             1625629 non-null  int64  \n",
      " 8   dloss             1625629 non-null  int64  \n",
      " 9   service           1625629 non-null  object \n",
      " 10  Sload             1625629 non-null  float64\n",
      " 11  Dload             1625629 non-null  float64\n",
      " 12  Spkts             1625629 non-null  int64  \n",
      " 13  Dpkts             1625629 non-null  int64  \n",
      " 14  swin              1625629 non-null  int64  \n",
      " 15  dwin              1625629 non-null  int64  \n",
      " 16  stcpb             1625629 non-null  int64  \n",
      " 17  dtcpb             1625629 non-null  int64  \n",
      " 18  smeansz           1625629 non-null  int64  \n",
      " 19  dmeansz           1625629 non-null  int64  \n",
      " 20  trans_depth       1625629 non-null  int64  \n",
      " 21  res_bdy_len       1625629 non-null  int64  \n",
      " 22  Sjit              1625629 non-null  float64\n",
      " 23  Djit              1625629 non-null  float64\n",
      " 24  Stime             1625629 non-null  int64  \n",
      " 25  Ltime             1625629 non-null  int64  \n",
      " 26  Sintpkt           1625629 non-null  float64\n",
      " 27  Dintpkt           1625629 non-null  float64\n",
      " 28  tcprtt            1625629 non-null  float64\n",
      " 29  synack            1625629 non-null  float64\n",
      " 30  ackdat            1625629 non-null  float64\n",
      " 31  is_sm_ips_ports   1625629 non-null  int64  \n",
      " 32  ct_state_ttl      1625629 non-null  int64  \n",
      " 33  ct_flw_http_mthd  1625629 non-null  float64\n",
      " 34  is_ftp_login      1625629 non-null  float64\n",
      " 35  ct_ftp_cmd        1625629 non-null  int32  \n",
      " 36  ct_srv_src        1625629 non-null  int64  \n",
      " 37  ct_srv_dst        1625629 non-null  int64  \n",
      " 38  ct_dst_ltm        1625629 non-null  int64  \n",
      " 39  ct_src_ ltm       1625629 non-null  int64  \n",
      " 40  ct_src_dport_ltm  1625629 non-null  int64  \n",
      " 41  ct_dst_sport_ltm  1625629 non-null  int64  \n",
      " 42  ct_dst_src_ltm    1625629 non-null  int64  \n",
      " 43  attack_cat        1625629 non-null  object \n",
      "dtypes: float64(12), int32(1), int64(27), object(4)\n",
      "memory usage: 551.9+ MB\n"
     ]
    }
   ],
   "source": [
    "train.info()"
   ]
  },
  {
   "cell_type": "code",
   "execution_count": 43,
   "id": "36031ace",
   "metadata": {},
   "outputs": [],
   "source": [
    "cat_col = ['proto', 'service', 'state']\n",
    "num_col = list(set(x_train.columns) - set(cat_col))"
   ]
  },
  {
   "cell_type": "code",
   "execution_count": 44,
   "id": "77dda22b",
   "metadata": {},
   "outputs": [],
   "source": [
    "#Data Correlation"
   ]
  },
  {
   "cell_type": "code",
   "execution_count": 45,
   "id": "3e58a265",
   "metadata": {},
   "outputs": [
    {
     "data": {
      "image/png": "[encoded data removed]",
      "text/plain": [
       "<Figure size 864x864 with 2 Axes>"
      ]
     },
     "metadata": {
      "needs_background": "light"
     },
     "output_type": "display_data"
    }
   ],
   "source": [
    "correlation_matrix = train[num_col].corr()\n",
    "\n",
    "\n",
    "plt.figure(figsize=(12, 12))  \n",
    "\n",
    "\n",
    "sns.heatmap(correlation_matrix, cmap='coolwarm', square=True)\n",
    "\n",
    "# Add labels and title\n",
    "plt.xlabel('Features')\n",
    "plt.ylabel('Features')\n",
    "plt.title('Correlation Heatmap of Features')\n",
    "\n",
    "# Rotate x-axis labels for better readability with many features\n",
    "plt.xticks(rotation=90)\n",
    "plt.yticks(rotation=0)\n",
    "\n",
    "# Show the plot\n",
    "plt.show()"
   ]
  },
  {
   "cell_type": "code",
   "execution_count": 46,
   "id": "ac479b63",
   "metadata": {},
   "outputs": [
    {
     "data": {
      "text/html": [
       "<div>\n",
       "<style scoped>\n",
       "    .dataframe tbody tr th:only-of-type {\n",
       "        vertical-align: middle;\n",
       "    }\n",
       "\n",
       "    .dataframe tbody tr th {\n",
       "        vertical-align: top;\n",
       "    }\n",
       "\n",
       "    .dataframe thead th {\n",
       "        text-align: right;\n",
       "    }\n",
       "</style>\n",
       "<table border=\"1\" class=\"dataframe\">\n",
       "  <thead>\n",
       "    <tr style=\"text-align: right;\">\n",
       "      <th>Name</th>\n",
       "      <th>proto</th>\n",
       "      <th>state</th>\n",
       "      <th>dur</th>\n",
       "      <th>sbytes</th>\n",
       "      <th>dbytes</th>\n",
       "      <th>sttl</th>\n",
       "      <th>dttl</th>\n",
       "      <th>sloss</th>\n",
       "      <th>dloss</th>\n",
       "      <th>service</th>\n",
       "      <th>...</th>\n",
       "      <th>is_ftp_login</th>\n",
       "      <th>ct_ftp_cmd</th>\n",
       "      <th>ct_srv_src</th>\n",
       "      <th>ct_srv_dst</th>\n",
       "      <th>ct_dst_ltm</th>\n",
       "      <th>ct_src_ ltm</th>\n",
       "      <th>ct_src_dport_ltm</th>\n",
       "      <th>ct_dst_sport_ltm</th>\n",
       "      <th>ct_dst_src_ltm</th>\n",
       "      <th>attack_cat</th>\n",
       "    </tr>\n",
       "  </thead>\n",
       "  <tbody>\n",
       "    <tr>\n",
       "      <th>1070804</th>\n",
       "      <td>tcp</td>\n",
       "      <td>FIN</td>\n",
       "      <td>0.438857</td>\n",
       "      <td>4776</td>\n",
       "      <td>3080</td>\n",
       "      <td>31</td>\n",
       "      <td>29</td>\n",
       "      <td>7</td>\n",
       "      <td>7</td>\n",
       "      <td>None</td>\n",
       "      <td>...</td>\n",
       "      <td>0.0</td>\n",
       "      <td>0</td>\n",
       "      <td>6</td>\n",
       "      <td>3</td>\n",
       "      <td>4</td>\n",
       "      <td>5</td>\n",
       "      <td>1</td>\n",
       "      <td>1</td>\n",
       "      <td>3</td>\n",
       "      <td>normal</td>\n",
       "    </tr>\n",
       "    <tr>\n",
       "      <th>1054569</th>\n",
       "      <td>tcp</td>\n",
       "      <td>CON</td>\n",
       "      <td>0.026163</td>\n",
       "      <td>2230</td>\n",
       "      <td>13900</td>\n",
       "      <td>31</td>\n",
       "      <td>29</td>\n",
       "      <td>7</td>\n",
       "      <td>10</td>\n",
       "      <td>None</td>\n",
       "      <td>...</td>\n",
       "      <td>0.0</td>\n",
       "      <td>0</td>\n",
       "      <td>2</td>\n",
       "      <td>7</td>\n",
       "      <td>2</td>\n",
       "      <td>1</td>\n",
       "      <td>1</td>\n",
       "      <td>1</td>\n",
       "      <td>1</td>\n",
       "      <td>normal</td>\n",
       "    </tr>\n",
       "    <tr>\n",
       "      <th>1548299</th>\n",
       "      <td>tcp</td>\n",
       "      <td>FIN</td>\n",
       "      <td>0.014954</td>\n",
       "      <td>2854</td>\n",
       "      <td>26584</td>\n",
       "      <td>31</td>\n",
       "      <td>29</td>\n",
       "      <td>7</td>\n",
       "      <td>16</td>\n",
       "      <td>None</td>\n",
       "      <td>...</td>\n",
       "      <td>0.0</td>\n",
       "      <td>0</td>\n",
       "      <td>9</td>\n",
       "      <td>6</td>\n",
       "      <td>4</td>\n",
       "      <td>8</td>\n",
       "      <td>1</td>\n",
       "      <td>1</td>\n",
       "      <td>1</td>\n",
       "      <td>normal</td>\n",
       "    </tr>\n",
       "    <tr>\n",
       "      <th>2305760</th>\n",
       "      <td>udp</td>\n",
       "      <td>INT</td>\n",
       "      <td>0.000009</td>\n",
       "      <td>114</td>\n",
       "      <td>0</td>\n",
       "      <td>254</td>\n",
       "      <td>0</td>\n",
       "      <td>0</td>\n",
       "      <td>0</td>\n",
       "      <td>dns</td>\n",
       "      <td>...</td>\n",
       "      <td>0.0</td>\n",
       "      <td>0</td>\n",
       "      <td>33</td>\n",
       "      <td>33</td>\n",
       "      <td>17</td>\n",
       "      <td>17</td>\n",
       "      <td>17</td>\n",
       "      <td>17</td>\n",
       "      <td>33</td>\n",
       "      <td>generic</td>\n",
       "    </tr>\n",
       "    <tr>\n",
       "      <th>1989356</th>\n",
       "      <td>udp</td>\n",
       "      <td>CON</td>\n",
       "      <td>0.001562</td>\n",
       "      <td>544</td>\n",
       "      <td>304</td>\n",
       "      <td>31</td>\n",
       "      <td>29</td>\n",
       "      <td>0</td>\n",
       "      <td>0</td>\n",
       "      <td>None</td>\n",
       "      <td>...</td>\n",
       "      <td>0.0</td>\n",
       "      <td>0</td>\n",
       "      <td>6</td>\n",
       "      <td>7</td>\n",
       "      <td>5</td>\n",
       "      <td>6</td>\n",
       "      <td>1</td>\n",
       "      <td>1</td>\n",
       "      <td>3</td>\n",
       "      <td>normal</td>\n",
       "    </tr>\n",
       "    <tr>\n",
       "      <th>...</th>\n",
       "      <td>...</td>\n",
       "      <td>...</td>\n",
       "      <td>...</td>\n",
       "      <td>...</td>\n",
       "      <td>...</td>\n",
       "      <td>...</td>\n",
       "      <td>...</td>\n",
       "      <td>...</td>\n",
       "      <td>...</td>\n",
       "      <td>...</td>\n",
       "      <td>...</td>\n",
       "      <td>...</td>\n",
       "      <td>...</td>\n",
       "      <td>...</td>\n",
       "      <td>...</td>\n",
       "      <td>...</td>\n",
       "      <td>...</td>\n",
       "      <td>...</td>\n",
       "      <td>...</td>\n",
       "      <td>...</td>\n",
       "      <td>...</td>\n",
       "    </tr>\n",
       "    <tr>\n",
       "      <th>358801</th>\n",
       "      <td>tcp</td>\n",
       "      <td>FIN</td>\n",
       "      <td>0.046476</td>\n",
       "      <td>320</td>\n",
       "      <td>1890</td>\n",
       "      <td>31</td>\n",
       "      <td>29</td>\n",
       "      <td>1</td>\n",
       "      <td>2</td>\n",
       "      <td>ftp-data</td>\n",
       "      <td>...</td>\n",
       "      <td>0.0</td>\n",
       "      <td>0</td>\n",
       "      <td>3</td>\n",
       "      <td>5</td>\n",
       "      <td>3</td>\n",
       "      <td>7</td>\n",
       "      <td>1</td>\n",
       "      <td>1</td>\n",
       "      <td>2</td>\n",
       "      <td>normal</td>\n",
       "    </tr>\n",
       "    <tr>\n",
       "      <th>556159</th>\n",
       "      <td>tcp</td>\n",
       "      <td>FIN</td>\n",
       "      <td>0.027755</td>\n",
       "      <td>5928</td>\n",
       "      <td>8010</td>\n",
       "      <td>31</td>\n",
       "      <td>29</td>\n",
       "      <td>14</td>\n",
       "      <td>17</td>\n",
       "      <td>ssh</td>\n",
       "      <td>...</td>\n",
       "      <td>0.0</td>\n",
       "      <td>0</td>\n",
       "      <td>1</td>\n",
       "      <td>1</td>\n",
       "      <td>8</td>\n",
       "      <td>3</td>\n",
       "      <td>1</td>\n",
       "      <td>1</td>\n",
       "      <td>1</td>\n",
       "      <td>normal</td>\n",
       "    </tr>\n",
       "    <tr>\n",
       "      <th>1408939</th>\n",
       "      <td>udp</td>\n",
       "      <td>INT</td>\n",
       "      <td>0.000003</td>\n",
       "      <td>264</td>\n",
       "      <td>0</td>\n",
       "      <td>60</td>\n",
       "      <td>0</td>\n",
       "      <td>0</td>\n",
       "      <td>0</td>\n",
       "      <td>dns</td>\n",
       "      <td>...</td>\n",
       "      <td>0.0</td>\n",
       "      <td>0</td>\n",
       "      <td>39</td>\n",
       "      <td>39</td>\n",
       "      <td>18</td>\n",
       "      <td>18</td>\n",
       "      <td>18</td>\n",
       "      <td>18</td>\n",
       "      <td>39</td>\n",
       "      <td>normal</td>\n",
       "    </tr>\n",
       "    <tr>\n",
       "      <th>1894282</th>\n",
       "      <td>tcp</td>\n",
       "      <td>FIN</td>\n",
       "      <td>0.057911</td>\n",
       "      <td>2766</td>\n",
       "      <td>27392</td>\n",
       "      <td>31</td>\n",
       "      <td>29</td>\n",
       "      <td>7</td>\n",
       "      <td>16</td>\n",
       "      <td>None</td>\n",
       "      <td>...</td>\n",
       "      <td>0.0</td>\n",
       "      <td>0</td>\n",
       "      <td>2</td>\n",
       "      <td>2</td>\n",
       "      <td>3</td>\n",
       "      <td>4</td>\n",
       "      <td>1</td>\n",
       "      <td>1</td>\n",
       "      <td>1</td>\n",
       "      <td>normal</td>\n",
       "    </tr>\n",
       "    <tr>\n",
       "      <th>2148776</th>\n",
       "      <td>tcp</td>\n",
       "      <td>FIN</td>\n",
       "      <td>0.263385</td>\n",
       "      <td>1920</td>\n",
       "      <td>4416</td>\n",
       "      <td>31</td>\n",
       "      <td>29</td>\n",
       "      <td>6</td>\n",
       "      <td>6</td>\n",
       "      <td>None</td>\n",
       "      <td>...</td>\n",
       "      <td>0.0</td>\n",
       "      <td>0</td>\n",
       "      <td>9</td>\n",
       "      <td>4</td>\n",
       "      <td>6</td>\n",
       "      <td>9</td>\n",
       "      <td>2</td>\n",
       "      <td>2</td>\n",
       "      <td>2</td>\n",
       "      <td>normal</td>\n",
       "    </tr>\n",
       "  </tbody>\n",
       "</table>\n",
       "<p>1625629 rows × 44 columns</p>\n",
       "</div>"
      ],
      "text/plain": [
       "Name    proto state       dur  sbytes  dbytes  sttl  dttl  sloss  dloss  \\\n",
       "1070804   tcp   FIN  0.438857    4776    3080    31    29      7      7   \n",
       "1054569   tcp   CON  0.026163    2230   13900    31    29      7     10   \n",
       "1548299   tcp   FIN  0.014954    2854   26584    31    29      7     16   \n",
       "2305760   udp   INT  0.000009     114       0   254     0      0      0   \n",
       "1989356   udp   CON  0.001562     544     304    31    29      0      0   \n",
       "...       ...   ...       ...     ...     ...   ...   ...    ...    ...   \n",
       "358801    tcp   FIN  0.046476     320    1890    31    29      1      2   \n",
       "556159    tcp   FIN  0.027755    5928    8010    31    29     14     17   \n",
       "1408939   udp   INT  0.000003     264       0    60     0      0      0   \n",
       "1894282   tcp   FIN  0.057911    2766   27392    31    29      7     16   \n",
       "2148776   tcp   FIN  0.263385    1920    4416    31    29      6      6   \n",
       "\n",
       "Name      service  ...  is_ftp_login  ct_ftp_cmd  ct_srv_src  ct_srv_dst  \\\n",
       "1070804      None  ...           0.0           0           6           3   \n",
       "1054569      None  ...           0.0           0           2           7   \n",
       "1548299      None  ...           0.0           0           9           6   \n",
       "2305760       dns  ...           0.0           0          33          33   \n",
       "1989356      None  ...           0.0           0           6           7   \n",
       "...           ...  ...           ...         ...         ...         ...   \n",
       "358801   ftp-data  ...           0.0           0           3           5   \n",
       "556159        ssh  ...           0.0           0           1           1   \n",
       "1408939       dns  ...           0.0           0          39          39   \n",
       "1894282      None  ...           0.0           0           2           2   \n",
       "2148776      None  ...           0.0           0           9           4   \n",
       "\n",
       "Name     ct_dst_ltm  ct_src_ ltm  ct_src_dport_ltm  ct_dst_sport_ltm  \\\n",
       "1070804           4            5                 1                 1   \n",
       "1054569           2            1                 1                 1   \n",
       "1548299           4            8                 1                 1   \n",
       "2305760          17           17                17                17   \n",
       "1989356           5            6                 1                 1   \n",
       "...             ...          ...               ...               ...   \n",
       "358801            3            7                 1                 1   \n",
       "556159            8            3                 1                 1   \n",
       "1408939          18           18                18                18   \n",
       "1894282           3            4                 1                 1   \n",
       "2148776           6            9                 2                 2   \n",
       "\n",
       "Name     ct_dst_src_ltm  attack_cat  \n",
       "1070804               3      normal  \n",
       "1054569               1      normal  \n",
       "1548299               1      normal  \n",
       "2305760              33     generic  \n",
       "1989356               3      normal  \n",
       "...                 ...         ...  \n",
       "358801                2      normal  \n",
       "556159                1      normal  \n",
       "1408939              39      normal  \n",
       "1894282               1      normal  \n",
       "2148776               2      normal  \n",
       "\n",
       "[1625629 rows x 44 columns]"
      ]
     },
     "execution_count": 46,
     "metadata": {},
     "output_type": "execute_result"
    }
   ],
   "source": [
    "train"
   ]
  },
  {
   "cell_type": "code",
   "execution_count": 47,
   "id": "93038b54",
   "metadata": {},
   "outputs": [
    {
     "data": {
      "image/png": "[encoded data removed]",
      "text/plain": [
       "<Figure size 432x288 with 1 Axes>"
      ]
     },
     "metadata": {
      "needs_background": "light"
     },
     "output_type": "display_data"
    }
   ],
   "source": [
    "labels = train['attack_cat']\n",
    "\n",
    "# Create a count plot with Seaborn\n",
    "sns.countplot(x=labels)\n",
    "\n",
    "# Add labels and title\n",
    "plt.xlabel('Class Label')\n",
    "plt.ylabel('Number of Data Points')\n",
    "plt.title('Class Distribution')\n",
    "\n",
    "# Rotate x-axis labels for better readability if there are many classes\n",
    "plt.xticks(rotation=90)\n",
    "\n",
    "# Show the plot\n",
    "plt.show()\n"
   ]
  },
  {
   "cell_type": "code",
   "execution_count": 48,
   "id": "2ae48459",
   "metadata": {},
   "outputs": [],
   "source": [
    "del combined_data"
   ]
  },
  {
   "cell_type": "code",
   "execution_count": 49,
   "id": "bbfe9f8e",
   "metadata": {},
   "outputs": [],
   "source": [
    "#Data Preprocessing"
   ]
  },
  {
   "cell_type": "code",
   "execution_count": 50,
   "id": "b8ab16f0",
   "metadata": {},
   "outputs": [
    {
     "data": {
      "text/html": [
       "<div>\n",
       "<style scoped>\n",
       "    .dataframe tbody tr th:only-of-type {\n",
       "        vertical-align: middle;\n",
       "    }\n",
       "\n",
       "    .dataframe tbody tr th {\n",
       "        vertical-align: top;\n",
       "    }\n",
       "\n",
       "    .dataframe thead th {\n",
       "        text-align: right;\n",
       "    }\n",
       "</style>\n",
       "<table border=\"1\" class=\"dataframe\">\n",
       "  <thead>\n",
       "    <tr style=\"text-align: right;\">\n",
       "      <th>Name</th>\n",
       "      <th>proto</th>\n",
       "      <th>state</th>\n",
       "      <th>dur</th>\n",
       "      <th>sbytes</th>\n",
       "      <th>dbytes</th>\n",
       "      <th>sttl</th>\n",
       "      <th>dttl</th>\n",
       "      <th>sloss</th>\n",
       "      <th>dloss</th>\n",
       "      <th>service</th>\n",
       "      <th>...</th>\n",
       "      <th>is_ftp_login</th>\n",
       "      <th>ct_ftp_cmd</th>\n",
       "      <th>ct_srv_src</th>\n",
       "      <th>ct_srv_dst</th>\n",
       "      <th>ct_dst_ltm</th>\n",
       "      <th>ct_src_ ltm</th>\n",
       "      <th>ct_src_dport_ltm</th>\n",
       "      <th>ct_dst_sport_ltm</th>\n",
       "      <th>ct_dst_src_ltm</th>\n",
       "      <th>attack_cat</th>\n",
       "    </tr>\n",
       "  </thead>\n",
       "  <tbody>\n",
       "    <tr>\n",
       "      <th>1070804</th>\n",
       "      <td>tcp</td>\n",
       "      <td>FIN</td>\n",
       "      <td>0.438857</td>\n",
       "      <td>4776</td>\n",
       "      <td>3080</td>\n",
       "      <td>31</td>\n",
       "      <td>29</td>\n",
       "      <td>7</td>\n",
       "      <td>7</td>\n",
       "      <td>None</td>\n",
       "      <td>...</td>\n",
       "      <td>0.0</td>\n",
       "      <td>0</td>\n",
       "      <td>6</td>\n",
       "      <td>3</td>\n",
       "      <td>4</td>\n",
       "      <td>5</td>\n",
       "      <td>1</td>\n",
       "      <td>1</td>\n",
       "      <td>3</td>\n",
       "      <td>normal</td>\n",
       "    </tr>\n",
       "    <tr>\n",
       "      <th>1054569</th>\n",
       "      <td>tcp</td>\n",
       "      <td>CON</td>\n",
       "      <td>0.026163</td>\n",
       "      <td>2230</td>\n",
       "      <td>13900</td>\n",
       "      <td>31</td>\n",
       "      <td>29</td>\n",
       "      <td>7</td>\n",
       "      <td>10</td>\n",
       "      <td>None</td>\n",
       "      <td>...</td>\n",
       "      <td>0.0</td>\n",
       "      <td>0</td>\n",
       "      <td>2</td>\n",
       "      <td>7</td>\n",
       "      <td>2</td>\n",
       "      <td>1</td>\n",
       "      <td>1</td>\n",
       "      <td>1</td>\n",
       "      <td>1</td>\n",
       "      <td>normal</td>\n",
       "    </tr>\n",
       "    <tr>\n",
       "      <th>1548299</th>\n",
       "      <td>tcp</td>\n",
       "      <td>FIN</td>\n",
       "      <td>0.014954</td>\n",
       "      <td>2854</td>\n",
       "      <td>26584</td>\n",
       "      <td>31</td>\n",
       "      <td>29</td>\n",
       "      <td>7</td>\n",
       "      <td>16</td>\n",
       "      <td>None</td>\n",
       "      <td>...</td>\n",
       "      <td>0.0</td>\n",
       "      <td>0</td>\n",
       "      <td>9</td>\n",
       "      <td>6</td>\n",
       "      <td>4</td>\n",
       "      <td>8</td>\n",
       "      <td>1</td>\n",
       "      <td>1</td>\n",
       "      <td>1</td>\n",
       "      <td>normal</td>\n",
       "    </tr>\n",
       "    <tr>\n",
       "      <th>2305760</th>\n",
       "      <td>udp</td>\n",
       "      <td>INT</td>\n",
       "      <td>0.000009</td>\n",
       "      <td>114</td>\n",
       "      <td>0</td>\n",
       "      <td>254</td>\n",
       "      <td>0</td>\n",
       "      <td>0</td>\n",
       "      <td>0</td>\n",
       "      <td>dns</td>\n",
       "      <td>...</td>\n",
       "      <td>0.0</td>\n",
       "      <td>0</td>\n",
       "      <td>33</td>\n",
       "      <td>33</td>\n",
       "      <td>17</td>\n",
       "      <td>17</td>\n",
       "      <td>17</td>\n",
       "      <td>17</td>\n",
       "      <td>33</td>\n",
       "      <td>generic</td>\n",
       "    </tr>\n",
       "    <tr>\n",
       "      <th>1989356</th>\n",
       "      <td>udp</td>\n",
       "      <td>CON</td>\n",
       "      <td>0.001562</td>\n",
       "      <td>544</td>\n",
       "      <td>304</td>\n",
       "      <td>31</td>\n",
       "      <td>29</td>\n",
       "      <td>0</td>\n",
       "      <td>0</td>\n",
       "      <td>None</td>\n",
       "      <td>...</td>\n",
       "      <td>0.0</td>\n",
       "      <td>0</td>\n",
       "      <td>6</td>\n",
       "      <td>7</td>\n",
       "      <td>5</td>\n",
       "      <td>6</td>\n",
       "      <td>1</td>\n",
       "      <td>1</td>\n",
       "      <td>3</td>\n",
       "      <td>normal</td>\n",
       "    </tr>\n",
       "    <tr>\n",
       "      <th>...</th>\n",
       "      <td>...</td>\n",
       "      <td>...</td>\n",
       "      <td>...</td>\n",
       "      <td>...</td>\n",
       "      <td>...</td>\n",
       "      <td>...</td>\n",
       "      <td>...</td>\n",
       "      <td>...</td>\n",
       "      <td>...</td>\n",
       "      <td>...</td>\n",
       "      <td>...</td>\n",
       "      <td>...</td>\n",
       "      <td>...</td>\n",
       "      <td>...</td>\n",
       "      <td>...</td>\n",
       "      <td>...</td>\n",
       "      <td>...</td>\n",
       "      <td>...</td>\n",
       "      <td>...</td>\n",
       "      <td>...</td>\n",
       "      <td>...</td>\n",
       "    </tr>\n",
       "    <tr>\n",
       "      <th>358801</th>\n",
       "      <td>tcp</td>\n",
       "      <td>FIN</td>\n",
       "      <td>0.046476</td>\n",
       "      <td>320</td>\n",
       "      <td>1890</td>\n",
       "      <td>31</td>\n",
       "      <td>29</td>\n",
       "      <td>1</td>\n",
       "      <td>2</td>\n",
       "      <td>ftp-data</td>\n",
       "      <td>...</td>\n",
       "      <td>0.0</td>\n",
       "      <td>0</td>\n",
       "      <td>3</td>\n",
       "      <td>5</td>\n",
       "      <td>3</td>\n",
       "      <td>7</td>\n",
       "      <td>1</td>\n",
       "      <td>1</td>\n",
       "      <td>2</td>\n",
       "      <td>normal</td>\n",
       "    </tr>\n",
       "    <tr>\n",
       "      <th>556159</th>\n",
       "      <td>tcp</td>\n",
       "      <td>FIN</td>\n",
       "      <td>0.027755</td>\n",
       "      <td>5928</td>\n",
       "      <td>8010</td>\n",
       "      <td>31</td>\n",
       "      <td>29</td>\n",
       "      <td>14</td>\n",
       "      <td>17</td>\n",
       "      <td>ssh</td>\n",
       "      <td>...</td>\n",
       "      <td>0.0</td>\n",
       "      <td>0</td>\n",
       "      <td>1</td>\n",
       "      <td>1</td>\n",
       "      <td>8</td>\n",
       "      <td>3</td>\n",
       "      <td>1</td>\n",
       "      <td>1</td>\n",
       "      <td>1</td>\n",
       "      <td>normal</td>\n",
       "    </tr>\n",
       "    <tr>\n",
       "      <th>1408939</th>\n",
       "      <td>udp</td>\n",
       "      <td>INT</td>\n",
       "      <td>0.000003</td>\n",
       "      <td>264</td>\n",
       "      <td>0</td>\n",
       "      <td>60</td>\n",
       "      <td>0</td>\n",
       "      <td>0</td>\n",
       "      <td>0</td>\n",
       "      <td>dns</td>\n",
       "      <td>...</td>\n",
       "      <td>0.0</td>\n",
       "      <td>0</td>\n",
       "      <td>39</td>\n",
       "      <td>39</td>\n",
       "      <td>18</td>\n",
       "      <td>18</td>\n",
       "      <td>18</td>\n",
       "      <td>18</td>\n",
       "      <td>39</td>\n",
       "      <td>normal</td>\n",
       "    </tr>\n",
       "    <tr>\n",
       "      <th>1894282</th>\n",
       "      <td>tcp</td>\n",
       "      <td>FIN</td>\n",
       "      <td>0.057911</td>\n",
       "      <td>2766</td>\n",
       "      <td>27392</td>\n",
       "      <td>31</td>\n",
       "      <td>29</td>\n",
       "      <td>7</td>\n",
       "      <td>16</td>\n",
       "      <td>None</td>\n",
       "      <td>...</td>\n",
       "      <td>0.0</td>\n",
       "      <td>0</td>\n",
       "      <td>2</td>\n",
       "      <td>2</td>\n",
       "      <td>3</td>\n",
       "      <td>4</td>\n",
       "      <td>1</td>\n",
       "      <td>1</td>\n",
       "      <td>1</td>\n",
       "      <td>normal</td>\n",
       "    </tr>\n",
       "    <tr>\n",
       "      <th>2148776</th>\n",
       "      <td>tcp</td>\n",
       "      <td>FIN</td>\n",
       "      <td>0.263385</td>\n",
       "      <td>1920</td>\n",
       "      <td>4416</td>\n",
       "      <td>31</td>\n",
       "      <td>29</td>\n",
       "      <td>6</td>\n",
       "      <td>6</td>\n",
       "      <td>None</td>\n",
       "      <td>...</td>\n",
       "      <td>0.0</td>\n",
       "      <td>0</td>\n",
       "      <td>9</td>\n",
       "      <td>4</td>\n",
       "      <td>6</td>\n",
       "      <td>9</td>\n",
       "      <td>2</td>\n",
       "      <td>2</td>\n",
       "      <td>2</td>\n",
       "      <td>normal</td>\n",
       "    </tr>\n",
       "  </tbody>\n",
       "</table>\n",
       "<p>1625629 rows × 44 columns</p>\n",
       "</div>"
      ],
      "text/plain": [
       "Name    proto state       dur  sbytes  dbytes  sttl  dttl  sloss  dloss  \\\n",
       "1070804   tcp   FIN  0.438857    4776    3080    31    29      7      7   \n",
       "1054569   tcp   CON  0.026163    2230   13900    31    29      7     10   \n",
       "1548299   tcp   FIN  0.014954    2854   26584    31    29      7     16   \n",
       "2305760   udp   INT  0.000009     114       0   254     0      0      0   \n",
       "1989356   udp   CON  0.001562     544     304    31    29      0      0   \n",
       "...       ...   ...       ...     ...     ...   ...   ...    ...    ...   \n",
       "358801    tcp   FIN  0.046476     320    1890    31    29      1      2   \n",
       "556159    tcp   FIN  0.027755    5928    8010    31    29     14     17   \n",
       "1408939   udp   INT  0.000003     264       0    60     0      0      0   \n",
       "1894282   tcp   FIN  0.057911    2766   27392    31    29      7     16   \n",
       "2148776   tcp   FIN  0.263385    1920    4416    31    29      6      6   \n",
       "\n",
       "Name      service  ...  is_ftp_login  ct_ftp_cmd  ct_srv_src  ct_srv_dst  \\\n",
       "1070804      None  ...           0.0           0           6           3   \n",
       "1054569      None  ...           0.0           0           2           7   \n",
       "1548299      None  ...           0.0           0           9           6   \n",
       "2305760       dns  ...           0.0           0          33          33   \n",
       "1989356      None  ...           0.0           0           6           7   \n",
       "...           ...  ...           ...         ...         ...         ...   \n",
       "358801   ftp-data  ...           0.0           0           3           5   \n",
       "556159        ssh  ...           0.0           0           1           1   \n",
       "1408939       dns  ...           0.0           0          39          39   \n",
       "1894282      None  ...           0.0           0           2           2   \n",
       "2148776      None  ...           0.0           0           9           4   \n",
       "\n",
       "Name     ct_dst_ltm  ct_src_ ltm  ct_src_dport_ltm  ct_dst_sport_ltm  \\\n",
       "1070804           4            5                 1                 1   \n",
       "1054569           2            1                 1                 1   \n",
       "1548299           4            8                 1                 1   \n",
       "2305760          17           17                17                17   \n",
       "1989356           5            6                 1                 1   \n",
       "...             ...          ...               ...               ...   \n",
       "358801            3            7                 1                 1   \n",
       "556159            8            3                 1                 1   \n",
       "1408939          18           18                18                18   \n",
       "1894282           3            4                 1                 1   \n",
       "2148776           6            9                 2                 2   \n",
       "\n",
       "Name     ct_dst_src_ltm  attack_cat  \n",
       "1070804               3      normal  \n",
       "1054569               1      normal  \n",
       "1548299               1      normal  \n",
       "2305760              33     generic  \n",
       "1989356               3      normal  \n",
       "...                 ...         ...  \n",
       "358801                2      normal  \n",
       "556159                1      normal  \n",
       "1408939              39      normal  \n",
       "1894282               1      normal  \n",
       "2148776               2      normal  \n",
       "\n",
       "[1625629 rows x 44 columns]"
      ]
     },
     "execution_count": 50,
     "metadata": {},
     "output_type": "execute_result"
    }
   ],
   "source": [
    "train"
   ]
  },
  {
   "cell_type": "code",
   "execution_count": 51,
   "id": "21a60484",
   "metadata": {},
   "outputs": [
    {
     "data": {
      "text/html": [
       "<div>\n",
       "<style scoped>\n",
       "    .dataframe tbody tr th:only-of-type {\n",
       "        vertical-align: middle;\n",
       "    }\n",
       "\n",
       "    .dataframe tbody tr th {\n",
       "        vertical-align: top;\n",
       "    }\n",
       "\n",
       "    .dataframe thead th {\n",
       "        text-align: right;\n",
       "    }\n",
       "</style>\n",
       "<table border=\"1\" class=\"dataframe\">\n",
       "  <thead>\n",
       "    <tr style=\"text-align: right;\">\n",
       "      <th>Name</th>\n",
       "      <th>proto</th>\n",
       "      <th>state</th>\n",
       "      <th>dur</th>\n",
       "      <th>sbytes</th>\n",
       "      <th>dbytes</th>\n",
       "      <th>sttl</th>\n",
       "      <th>dttl</th>\n",
       "      <th>sloss</th>\n",
       "      <th>dloss</th>\n",
       "      <th>service</th>\n",
       "      <th>...</th>\n",
       "      <th>is_ftp_login</th>\n",
       "      <th>ct_ftp_cmd</th>\n",
       "      <th>ct_srv_src</th>\n",
       "      <th>ct_srv_dst</th>\n",
       "      <th>ct_dst_ltm</th>\n",
       "      <th>ct_src_ ltm</th>\n",
       "      <th>ct_src_dport_ltm</th>\n",
       "      <th>ct_dst_sport_ltm</th>\n",
       "      <th>ct_dst_src_ltm</th>\n",
       "      <th>attack_cat</th>\n",
       "    </tr>\n",
       "  </thead>\n",
       "  <tbody>\n",
       "    <tr>\n",
       "      <th>752174</th>\n",
       "      <td>udp</td>\n",
       "      <td>CON</td>\n",
       "      <td>0.001037</td>\n",
       "      <td>146</td>\n",
       "      <td>178</td>\n",
       "      <td>31</td>\n",
       "      <td>29</td>\n",
       "      <td>0</td>\n",
       "      <td>0</td>\n",
       "      <td>dns</td>\n",
       "      <td>...</td>\n",
       "      <td>0.0</td>\n",
       "      <td>0</td>\n",
       "      <td>2</td>\n",
       "      <td>2</td>\n",
       "      <td>2</td>\n",
       "      <td>3</td>\n",
       "      <td>1</td>\n",
       "      <td>1</td>\n",
       "      <td>1</td>\n",
       "      <td>normal</td>\n",
       "    </tr>\n",
       "    <tr>\n",
       "      <th>328310</th>\n",
       "      <td>udp</td>\n",
       "      <td>CON</td>\n",
       "      <td>0.001008</td>\n",
       "      <td>146</td>\n",
       "      <td>178</td>\n",
       "      <td>31</td>\n",
       "      <td>29</td>\n",
       "      <td>0</td>\n",
       "      <td>0</td>\n",
       "      <td>dns</td>\n",
       "      <td>...</td>\n",
       "      <td>0.0</td>\n",
       "      <td>0</td>\n",
       "      <td>5</td>\n",
       "      <td>2</td>\n",
       "      <td>6</td>\n",
       "      <td>3</td>\n",
       "      <td>1</td>\n",
       "      <td>1</td>\n",
       "      <td>1</td>\n",
       "      <td>normal</td>\n",
       "    </tr>\n",
       "    <tr>\n",
       "      <th>1429547</th>\n",
       "      <td>udp</td>\n",
       "      <td>INT</td>\n",
       "      <td>0.000009</td>\n",
       "      <td>264</td>\n",
       "      <td>0</td>\n",
       "      <td>60</td>\n",
       "      <td>0</td>\n",
       "      <td>0</td>\n",
       "      <td>0</td>\n",
       "      <td>dns</td>\n",
       "      <td>...</td>\n",
       "      <td>0.0</td>\n",
       "      <td>0</td>\n",
       "      <td>31</td>\n",
       "      <td>31</td>\n",
       "      <td>25</td>\n",
       "      <td>25</td>\n",
       "      <td>25</td>\n",
       "      <td>25</td>\n",
       "      <td>31</td>\n",
       "      <td>normal</td>\n",
       "    </tr>\n",
       "    <tr>\n",
       "      <th>528257</th>\n",
       "      <td>tcp</td>\n",
       "      <td>FIN</td>\n",
       "      <td>0.005121</td>\n",
       "      <td>3920</td>\n",
       "      <td>2456</td>\n",
       "      <td>31</td>\n",
       "      <td>29</td>\n",
       "      <td>7</td>\n",
       "      <td>7</td>\n",
       "      <td>None</td>\n",
       "      <td>...</td>\n",
       "      <td>0.0</td>\n",
       "      <td>0</td>\n",
       "      <td>7</td>\n",
       "      <td>9</td>\n",
       "      <td>6</td>\n",
       "      <td>6</td>\n",
       "      <td>1</td>\n",
       "      <td>1</td>\n",
       "      <td>4</td>\n",
       "      <td>normal</td>\n",
       "    </tr>\n",
       "    <tr>\n",
       "      <th>1810467</th>\n",
       "      <td>udp</td>\n",
       "      <td>CON</td>\n",
       "      <td>0.001134</td>\n",
       "      <td>146</td>\n",
       "      <td>178</td>\n",
       "      <td>31</td>\n",
       "      <td>29</td>\n",
       "      <td>0</td>\n",
       "      <td>0</td>\n",
       "      <td>dns</td>\n",
       "      <td>...</td>\n",
       "      <td>0.0</td>\n",
       "      <td>0</td>\n",
       "      <td>3</td>\n",
       "      <td>3</td>\n",
       "      <td>1</td>\n",
       "      <td>2</td>\n",
       "      <td>1</td>\n",
       "      <td>1</td>\n",
       "      <td>2</td>\n",
       "      <td>normal</td>\n",
       "    </tr>\n",
       "    <tr>\n",
       "      <th>...</th>\n",
       "      <td>...</td>\n",
       "      <td>...</td>\n",
       "      <td>...</td>\n",
       "      <td>...</td>\n",
       "      <td>...</td>\n",
       "      <td>...</td>\n",
       "      <td>...</td>\n",
       "      <td>...</td>\n",
       "      <td>...</td>\n",
       "      <td>...</td>\n",
       "      <td>...</td>\n",
       "      <td>...</td>\n",
       "      <td>...</td>\n",
       "      <td>...</td>\n",
       "      <td>...</td>\n",
       "      <td>...</td>\n",
       "      <td>...</td>\n",
       "      <td>...</td>\n",
       "      <td>...</td>\n",
       "      <td>...</td>\n",
       "      <td>...</td>\n",
       "    </tr>\n",
       "    <tr>\n",
       "      <th>327636</th>\n",
       "      <td>tcp</td>\n",
       "      <td>FIN</td>\n",
       "      <td>0.029930</td>\n",
       "      <td>2230</td>\n",
       "      <td>15258</td>\n",
       "      <td>31</td>\n",
       "      <td>29</td>\n",
       "      <td>7</td>\n",
       "      <td>11</td>\n",
       "      <td>None</td>\n",
       "      <td>...</td>\n",
       "      <td>0.0</td>\n",
       "      <td>0</td>\n",
       "      <td>10</td>\n",
       "      <td>9</td>\n",
       "      <td>2</td>\n",
       "      <td>2</td>\n",
       "      <td>1</td>\n",
       "      <td>1</td>\n",
       "      <td>1</td>\n",
       "      <td>normal</td>\n",
       "    </tr>\n",
       "    <tr>\n",
       "      <th>1340646</th>\n",
       "      <td>udp</td>\n",
       "      <td>CON</td>\n",
       "      <td>0.001049</td>\n",
       "      <td>130</td>\n",
       "      <td>162</td>\n",
       "      <td>31</td>\n",
       "      <td>29</td>\n",
       "      <td>0</td>\n",
       "      <td>0</td>\n",
       "      <td>dns</td>\n",
       "      <td>...</td>\n",
       "      <td>0.0</td>\n",
       "      <td>0</td>\n",
       "      <td>2</td>\n",
       "      <td>3</td>\n",
       "      <td>7</td>\n",
       "      <td>3</td>\n",
       "      <td>1</td>\n",
       "      <td>1</td>\n",
       "      <td>3</td>\n",
       "      <td>normal</td>\n",
       "    </tr>\n",
       "    <tr>\n",
       "      <th>863090</th>\n",
       "      <td>udp</td>\n",
       "      <td>CON</td>\n",
       "      <td>0.001710</td>\n",
       "      <td>536</td>\n",
       "      <td>304</td>\n",
       "      <td>31</td>\n",
       "      <td>29</td>\n",
       "      <td>0</td>\n",
       "      <td>0</td>\n",
       "      <td>None</td>\n",
       "      <td>...</td>\n",
       "      <td>0.0</td>\n",
       "      <td>0</td>\n",
       "      <td>13</td>\n",
       "      <td>21</td>\n",
       "      <td>4</td>\n",
       "      <td>5</td>\n",
       "      <td>1</td>\n",
       "      <td>1</td>\n",
       "      <td>4</td>\n",
       "      <td>normal</td>\n",
       "    </tr>\n",
       "    <tr>\n",
       "      <th>1890181</th>\n",
       "      <td>udp</td>\n",
       "      <td>CON</td>\n",
       "      <td>0.001097</td>\n",
       "      <td>146</td>\n",
       "      <td>178</td>\n",
       "      <td>31</td>\n",
       "      <td>29</td>\n",
       "      <td>0</td>\n",
       "      <td>0</td>\n",
       "      <td>dns</td>\n",
       "      <td>...</td>\n",
       "      <td>0.0</td>\n",
       "      <td>0</td>\n",
       "      <td>1</td>\n",
       "      <td>1</td>\n",
       "      <td>2</td>\n",
       "      <td>3</td>\n",
       "      <td>1</td>\n",
       "      <td>1</td>\n",
       "      <td>1</td>\n",
       "      <td>normal</td>\n",
       "    </tr>\n",
       "    <tr>\n",
       "      <th>2278317</th>\n",
       "      <td>udp</td>\n",
       "      <td>INT</td>\n",
       "      <td>0.000009</td>\n",
       "      <td>114</td>\n",
       "      <td>0</td>\n",
       "      <td>254</td>\n",
       "      <td>0</td>\n",
       "      <td>0</td>\n",
       "      <td>0</td>\n",
       "      <td>dns</td>\n",
       "      <td>...</td>\n",
       "      <td>0.0</td>\n",
       "      <td>0</td>\n",
       "      <td>17</td>\n",
       "      <td>17</td>\n",
       "      <td>17</td>\n",
       "      <td>17</td>\n",
       "      <td>17</td>\n",
       "      <td>17</td>\n",
       "      <td>17</td>\n",
       "      <td>generic</td>\n",
       "    </tr>\n",
       "  </tbody>\n",
       "</table>\n",
       "<p>508010 rows × 44 columns</p>\n",
       "</div>"
      ],
      "text/plain": [
       "Name    proto state       dur  sbytes  dbytes  sttl  dttl  sloss  dloss  \\\n",
       "752174    udp   CON  0.001037     146     178    31    29      0      0   \n",
       "328310    udp   CON  0.001008     146     178    31    29      0      0   \n",
       "1429547   udp   INT  0.000009     264       0    60     0      0      0   \n",
       "528257    tcp   FIN  0.005121    3920    2456    31    29      7      7   \n",
       "1810467   udp   CON  0.001134     146     178    31    29      0      0   \n",
       "...       ...   ...       ...     ...     ...   ...   ...    ...    ...   \n",
       "327636    tcp   FIN  0.029930    2230   15258    31    29      7     11   \n",
       "1340646   udp   CON  0.001049     130     162    31    29      0      0   \n",
       "863090    udp   CON  0.001710     536     304    31    29      0      0   \n",
       "1890181   udp   CON  0.001097     146     178    31    29      0      0   \n",
       "2278317   udp   INT  0.000009     114       0   254     0      0      0   \n",
       "\n",
       "Name    service  ...  is_ftp_login  ct_ftp_cmd  ct_srv_src  ct_srv_dst  \\\n",
       "752174      dns  ...           0.0           0           2           2   \n",
       "328310      dns  ...           0.0           0           5           2   \n",
       "1429547     dns  ...           0.0           0          31          31   \n",
       "528257     None  ...           0.0           0           7           9   \n",
       "1810467     dns  ...           0.0           0           3           3   \n",
       "...         ...  ...           ...         ...         ...         ...   \n",
       "327636     None  ...           0.0           0          10           9   \n",
       "1340646     dns  ...           0.0           0           2           3   \n",
       "863090     None  ...           0.0           0          13          21   \n",
       "1890181     dns  ...           0.0           0           1           1   \n",
       "2278317     dns  ...           0.0           0          17          17   \n",
       "\n",
       "Name     ct_dst_ltm  ct_src_ ltm  ct_src_dport_ltm  ct_dst_sport_ltm  \\\n",
       "752174            2            3                 1                 1   \n",
       "328310            6            3                 1                 1   \n",
       "1429547          25           25                25                25   \n",
       "528257            6            6                 1                 1   \n",
       "1810467           1            2                 1                 1   \n",
       "...             ...          ...               ...               ...   \n",
       "327636            2            2                 1                 1   \n",
       "1340646           7            3                 1                 1   \n",
       "863090            4            5                 1                 1   \n",
       "1890181           2            3                 1                 1   \n",
       "2278317          17           17                17                17   \n",
       "\n",
       "Name     ct_dst_src_ltm  attack_cat  \n",
       "752174                1      normal  \n",
       "328310                1      normal  \n",
       "1429547              31      normal  \n",
       "528257                4      normal  \n",
       "1810467               2      normal  \n",
       "...                 ...         ...  \n",
       "327636                1      normal  \n",
       "1340646               3      normal  \n",
       "863090                4      normal  \n",
       "1890181               1      normal  \n",
       "2278317              17     generic  \n",
       "\n",
       "[508010 rows x 44 columns]"
      ]
     },
     "execution_count": 51,
     "metadata": {},
     "output_type": "execute_result"
    }
   ],
   "source": [
    "test"
   ]
  },
  {
   "cell_type": "code",
   "execution_count": 52,
   "id": "fed29365",
   "metadata": {},
   "outputs": [],
   "source": [
    "del train\n",
    "del test"
   ]
  },
  {
   "cell_type": "code",
   "execution_count": 53,
   "id": "dfa72a61",
   "metadata": {},
   "outputs": [],
   "source": [
    "scaler = StandardScaler()\n",
    "scaler = scaler.fit(x_train[num_col])\n",
    "x_train[num_col] = scaler.transform(x_train[num_col])\n",
    "x_test[num_col] = scaler.transform(x_test[num_col])\n",
    "x_val[num_col] = scaler.transform(x_val[num_col])"
   ]
  },
  {
   "cell_type": "code",
   "execution_count": 54,
   "id": "52af075a",
   "metadata": {},
   "outputs": [
    {
     "data": {
      "text/plain": [
       "Name\n",
       "proto               0\n",
       "state               0\n",
       "dur                 0\n",
       "sbytes              0\n",
       "dbytes              0\n",
       "sttl                0\n",
       "dttl                0\n",
       "sloss               0\n",
       "dloss               0\n",
       "service             0\n",
       "Sload               0\n",
       "Dload               0\n",
       "Spkts               0\n",
       "Dpkts               0\n",
       "swin                0\n",
       "dwin                0\n",
       "stcpb               0\n",
       "dtcpb               0\n",
       "smeansz             0\n",
       "dmeansz             0\n",
       "trans_depth         0\n",
       "res_bdy_len         0\n",
       "Sjit                0\n",
       "Djit                0\n",
       "Stime               0\n",
       "Ltime               0\n",
       "Sintpkt             0\n",
       "Dintpkt             0\n",
       "tcprtt              0\n",
       "synack              0\n",
       "ackdat              0\n",
       "is_sm_ips_ports     0\n",
       "ct_state_ttl        0\n",
       "ct_flw_http_mthd    0\n",
       "is_ftp_login        0\n",
       "ct_ftp_cmd          0\n",
       "ct_srv_src          0\n",
       "ct_srv_dst          0\n",
       "ct_dst_ltm          0\n",
       "ct_src_ ltm         0\n",
       "ct_src_dport_ltm    0\n",
       "ct_dst_sport_ltm    0\n",
       "ct_dst_src_ltm      0\n",
       "dtype: int64"
      ]
     },
     "execution_count": 54,
     "metadata": {},
     "output_type": "execute_result"
    }
   ],
   "source": [
    "x_train.isnull().sum()"
   ]
  },
  {
   "cell_type": "code",
   "execution_count": 55,
   "id": "d50720e5",
   "metadata": {},
   "outputs": [
    {
     "data": {
      "text/html": [
       "<div>\n",
       "<style scoped>\n",
       "    .dataframe tbody tr th:only-of-type {\n",
       "        vertical-align: middle;\n",
       "    }\n",
       "\n",
       "    .dataframe tbody tr th {\n",
       "        vertical-align: top;\n",
       "    }\n",
       "\n",
       "    .dataframe thead th {\n",
       "        text-align: right;\n",
       "    }\n",
       "</style>\n",
       "<table border=\"1\" class=\"dataframe\">\n",
       "  <thead>\n",
       "    <tr style=\"text-align: right;\">\n",
       "      <th>Name</th>\n",
       "      <th>proto</th>\n",
       "      <th>state</th>\n",
       "      <th>dur</th>\n",
       "      <th>sbytes</th>\n",
       "      <th>dbytes</th>\n",
       "      <th>sttl</th>\n",
       "      <th>dttl</th>\n",
       "      <th>sloss</th>\n",
       "      <th>dloss</th>\n",
       "      <th>service</th>\n",
       "      <th>...</th>\n",
       "      <th>ct_flw_http_mthd</th>\n",
       "      <th>is_ftp_login</th>\n",
       "      <th>ct_ftp_cmd</th>\n",
       "      <th>ct_srv_src</th>\n",
       "      <th>ct_srv_dst</th>\n",
       "      <th>ct_dst_ltm</th>\n",
       "      <th>ct_src_ ltm</th>\n",
       "      <th>ct_src_dport_ltm</th>\n",
       "      <th>ct_dst_sport_ltm</th>\n",
       "      <th>ct_dst_src_ltm</th>\n",
       "    </tr>\n",
       "  </thead>\n",
       "  <tbody>\n",
       "    <tr>\n",
       "      <th>1070804</th>\n",
       "      <td>tcp</td>\n",
       "      <td>FIN</td>\n",
       "      <td>-0.015666</td>\n",
       "      <td>0.006680</td>\n",
       "      <td>-0.207565</td>\n",
       "      <td>-0.425819</td>\n",
       "      <td>-0.041571</td>\n",
       "      <td>0.078012</td>\n",
       "      <td>-0.165407</td>\n",
       "      <td>None</td>\n",
       "      <td>...</td>\n",
       "      <td>-0.197064</td>\n",
       "      <td>-0.132412</td>\n",
       "      <td>-0.111932</td>\n",
       "      <td>-0.295572</td>\n",
       "      <td>-0.552931</td>\n",
       "      <td>-0.298713</td>\n",
       "      <td>-0.231552</td>\n",
       "      <td>-0.429343</td>\n",
       "      <td>-0.419600</td>\n",
       "      <td>-0.341354</td>\n",
       "    </tr>\n",
       "    <tr>\n",
       "      <th>1054569</th>\n",
       "      <td>tcp</td>\n",
       "      <td>CON</td>\n",
       "      <td>-0.044727</td>\n",
       "      <td>-0.036739</td>\n",
       "      <td>-0.140409</td>\n",
       "      <td>-0.425819</td>\n",
       "      <td>-0.041571</td>\n",
       "      <td>0.078012</td>\n",
       "      <td>-0.112384</td>\n",
       "      <td>None</td>\n",
       "      <td>...</td>\n",
       "      <td>-0.197064</td>\n",
       "      <td>-0.132412</td>\n",
       "      <td>-0.111932</td>\n",
       "      <td>-0.664805</td>\n",
       "      <td>-0.183215</td>\n",
       "      <td>-0.543699</td>\n",
       "      <td>-0.718943</td>\n",
       "      <td>-0.429343</td>\n",
       "      <td>-0.419600</td>\n",
       "      <td>-0.519068</td>\n",
       "    </tr>\n",
       "    <tr>\n",
       "      <th>1548299</th>\n",
       "      <td>tcp</td>\n",
       "      <td>FIN</td>\n",
       "      <td>-0.045516</td>\n",
       "      <td>-0.026097</td>\n",
       "      <td>-0.061684</td>\n",
       "      <td>-0.425819</td>\n",
       "      <td>-0.041571</td>\n",
       "      <td>0.078012</td>\n",
       "      <td>-0.006337</td>\n",
       "      <td>None</td>\n",
       "      <td>...</td>\n",
       "      <td>-0.197064</td>\n",
       "      <td>-0.132412</td>\n",
       "      <td>-0.111932</td>\n",
       "      <td>-0.018647</td>\n",
       "      <td>-0.275644</td>\n",
       "      <td>-0.298713</td>\n",
       "      <td>0.133992</td>\n",
       "      <td>-0.429343</td>\n",
       "      <td>-0.419600</td>\n",
       "      <td>-0.519068</td>\n",
       "    </tr>\n",
       "    <tr>\n",
       "      <th>2305760</th>\n",
       "      <td>udp</td>\n",
       "      <td>INT</td>\n",
       "      <td>-0.046569</td>\n",
       "      <td>-0.072824</td>\n",
       "      <td>-0.226682</td>\n",
       "      <td>2.562744</td>\n",
       "      <td>-0.717922</td>\n",
       "      <td>-0.222087</td>\n",
       "      <td>-0.289129</td>\n",
       "      <td>dns</td>\n",
       "      <td>...</td>\n",
       "      <td>-0.197064</td>\n",
       "      <td>-0.132412</td>\n",
       "      <td>-0.111932</td>\n",
       "      <td>2.196755</td>\n",
       "      <td>2.219942</td>\n",
       "      <td>1.293699</td>\n",
       "      <td>1.230624</td>\n",
       "      <td>1.457340</td>\n",
       "      <td>2.172686</td>\n",
       "      <td>2.324369</td>\n",
       "    </tr>\n",
       "    <tr>\n",
       "      <th>1989356</th>\n",
       "      <td>udp</td>\n",
       "      <td>CON</td>\n",
       "      <td>-0.046459</td>\n",
       "      <td>-0.065491</td>\n",
       "      <td>-0.224795</td>\n",
       "      <td>-0.425819</td>\n",
       "      <td>-0.041571</td>\n",
       "      <td>-0.222087</td>\n",
       "      <td>-0.289129</td>\n",
       "      <td>None</td>\n",
       "      <td>...</td>\n",
       "      <td>-0.197064</td>\n",
       "      <td>-0.132412</td>\n",
       "      <td>-0.111932</td>\n",
       "      <td>-0.295572</td>\n",
       "      <td>-0.183215</td>\n",
       "      <td>-0.176220</td>\n",
       "      <td>-0.109704</td>\n",
       "      <td>-0.429343</td>\n",
       "      <td>-0.419600</td>\n",
       "      <td>-0.341354</td>\n",
       "    </tr>\n",
       "  </tbody>\n",
       "</table>\n",
       "<p>5 rows × 43 columns</p>\n",
       "</div>"
      ],
      "text/plain": [
       "Name    proto state       dur    sbytes    dbytes      sttl      dttl  \\\n",
       "1070804   tcp   FIN -0.015666  0.006680 -0.207565 -0.425819 -0.041571   \n",
       "1054569   tcp   CON -0.044727 -0.036739 -0.140409 -0.425819 -0.041571   \n",
       "1548299   tcp   FIN -0.045516 -0.026097 -0.061684 -0.425819 -0.041571   \n",
       "2305760   udp   INT -0.046569 -0.072824 -0.226682  2.562744 -0.717922   \n",
       "1989356   udp   CON -0.046459 -0.065491 -0.224795 -0.425819 -0.041571   \n",
       "\n",
       "Name        sloss     dloss service  ...  ct_flw_http_mthd  is_ftp_login  \\\n",
       "1070804  0.078012 -0.165407    None  ...         -0.197064     -0.132412   \n",
       "1054569  0.078012 -0.112384    None  ...         -0.197064     -0.132412   \n",
       "1548299  0.078012 -0.006337    None  ...         -0.197064     -0.132412   \n",
       "2305760 -0.222087 -0.289129     dns  ...         -0.197064     -0.132412   \n",
       "1989356 -0.222087 -0.289129    None  ...         -0.197064     -0.132412   \n",
       "\n",
       "Name     ct_ftp_cmd  ct_srv_src  ct_srv_dst  ct_dst_ltm  ct_src_ ltm  \\\n",
       "1070804   -0.111932   -0.295572   -0.552931   -0.298713    -0.231552   \n",
       "1054569   -0.111932   -0.664805   -0.183215   -0.543699    -0.718943   \n",
       "1548299   -0.111932   -0.018647   -0.275644   -0.298713     0.133992   \n",
       "2305760   -0.111932    2.196755    2.219942    1.293699     1.230624   \n",
       "1989356   -0.111932   -0.295572   -0.183215   -0.176220    -0.109704   \n",
       "\n",
       "Name     ct_src_dport_ltm  ct_dst_sport_ltm  ct_dst_src_ltm  \n",
       "1070804         -0.429343         -0.419600       -0.341354  \n",
       "1054569         -0.429343         -0.419600       -0.519068  \n",
       "1548299         -0.429343         -0.419600       -0.519068  \n",
       "2305760          1.457340          2.172686        2.324369  \n",
       "1989356         -0.429343         -0.419600       -0.341354  \n",
       "\n",
       "[5 rows x 43 columns]"
      ]
     },
     "execution_count": 55,
     "metadata": {},
     "output_type": "execute_result"
    }
   ],
   "source": [
    "x_train.head()"
   ]
  },
  {
   "cell_type": "code",
   "execution_count": 56,
   "id": "4671ea49",
   "metadata": {},
   "outputs": [
    {
     "data": {
      "text/html": [
       "<div>\n",
       "<style scoped>\n",
       "    .dataframe tbody tr th:only-of-type {\n",
       "        vertical-align: middle;\n",
       "    }\n",
       "\n",
       "    .dataframe tbody tr th {\n",
       "        vertical-align: top;\n",
       "    }\n",
       "\n",
       "    .dataframe thead th {\n",
       "        text-align: right;\n",
       "    }\n",
       "</style>\n",
       "<table border=\"1\" class=\"dataframe\">\n",
       "  <thead>\n",
       "    <tr style=\"text-align: right;\">\n",
       "      <th>Name</th>\n",
       "      <th>proto</th>\n",
       "      <th>state</th>\n",
       "      <th>dur</th>\n",
       "      <th>sbytes</th>\n",
       "      <th>dbytes</th>\n",
       "      <th>sttl</th>\n",
       "      <th>dttl</th>\n",
       "      <th>sloss</th>\n",
       "      <th>dloss</th>\n",
       "      <th>service</th>\n",
       "      <th>...</th>\n",
       "      <th>ct_flw_http_mthd</th>\n",
       "      <th>is_ftp_login</th>\n",
       "      <th>ct_ftp_cmd</th>\n",
       "      <th>ct_srv_src</th>\n",
       "      <th>ct_srv_dst</th>\n",
       "      <th>ct_dst_ltm</th>\n",
       "      <th>ct_src_ ltm</th>\n",
       "      <th>ct_src_dport_ltm</th>\n",
       "      <th>ct_dst_sport_ltm</th>\n",
       "      <th>ct_dst_src_ltm</th>\n",
       "    </tr>\n",
       "  </thead>\n",
       "  <tbody>\n",
       "    <tr>\n",
       "      <th>752174</th>\n",
       "      <td>udp</td>\n",
       "      <td>CON</td>\n",
       "      <td>-0.046496</td>\n",
       "      <td>-0.072279</td>\n",
       "      <td>-0.225577</td>\n",
       "      <td>-0.425819</td>\n",
       "      <td>-0.041571</td>\n",
       "      <td>-0.222087</td>\n",
       "      <td>-0.289129</td>\n",
       "      <td>dns</td>\n",
       "      <td>...</td>\n",
       "      <td>-0.197064</td>\n",
       "      <td>-0.132412</td>\n",
       "      <td>-0.111932</td>\n",
       "      <td>-0.664805</td>\n",
       "      <td>-0.645360</td>\n",
       "      <td>-0.543699</td>\n",
       "      <td>-0.475247</td>\n",
       "      <td>-0.429343</td>\n",
       "      <td>-0.419600</td>\n",
       "      <td>-0.519068</td>\n",
       "    </tr>\n",
       "    <tr>\n",
       "      <th>328310</th>\n",
       "      <td>udp</td>\n",
       "      <td>CON</td>\n",
       "      <td>-0.046498</td>\n",
       "      <td>-0.072279</td>\n",
       "      <td>-0.225577</td>\n",
       "      <td>-0.425819</td>\n",
       "      <td>-0.041571</td>\n",
       "      <td>-0.222087</td>\n",
       "      <td>-0.289129</td>\n",
       "      <td>dns</td>\n",
       "      <td>...</td>\n",
       "      <td>-0.197064</td>\n",
       "      <td>-0.132412</td>\n",
       "      <td>-0.111932</td>\n",
       "      <td>-0.387880</td>\n",
       "      <td>-0.645360</td>\n",
       "      <td>-0.053726</td>\n",
       "      <td>-0.475247</td>\n",
       "      <td>-0.429343</td>\n",
       "      <td>-0.419600</td>\n",
       "      <td>-0.519068</td>\n",
       "    </tr>\n",
       "    <tr>\n",
       "      <th>1429547</th>\n",
       "      <td>udp</td>\n",
       "      <td>INT</td>\n",
       "      <td>-0.046569</td>\n",
       "      <td>-0.070266</td>\n",
       "      <td>-0.226682</td>\n",
       "      <td>-0.037172</td>\n",
       "      <td>-0.717922</td>\n",
       "      <td>-0.222087</td>\n",
       "      <td>-0.289129</td>\n",
       "      <td>dns</td>\n",
       "      <td>...</td>\n",
       "      <td>-0.197064</td>\n",
       "      <td>-0.132412</td>\n",
       "      <td>-0.111932</td>\n",
       "      <td>2.012138</td>\n",
       "      <td>2.035084</td>\n",
       "      <td>2.273645</td>\n",
       "      <td>2.205408</td>\n",
       "      <td>2.400682</td>\n",
       "      <td>3.468828</td>\n",
       "      <td>2.146654</td>\n",
       "    </tr>\n",
       "    <tr>\n",
       "      <th>528257</th>\n",
       "      <td>tcp</td>\n",
       "      <td>FIN</td>\n",
       "      <td>-0.046209</td>\n",
       "      <td>-0.007918</td>\n",
       "      <td>-0.211438</td>\n",
       "      <td>-0.425819</td>\n",
       "      <td>-0.041571</td>\n",
       "      <td>0.078012</td>\n",
       "      <td>-0.165407</td>\n",
       "      <td>None</td>\n",
       "      <td>...</td>\n",
       "      <td>-0.197064</td>\n",
       "      <td>-0.132412</td>\n",
       "      <td>-0.111932</td>\n",
       "      <td>-0.203263</td>\n",
       "      <td>0.001643</td>\n",
       "      <td>-0.053726</td>\n",
       "      <td>-0.109704</td>\n",
       "      <td>-0.429343</td>\n",
       "      <td>-0.419600</td>\n",
       "      <td>-0.252496</td>\n",
       "    </tr>\n",
       "    <tr>\n",
       "      <th>1810467</th>\n",
       "      <td>udp</td>\n",
       "      <td>CON</td>\n",
       "      <td>-0.046490</td>\n",
       "      <td>-0.072279</td>\n",
       "      <td>-0.225577</td>\n",
       "      <td>-0.425819</td>\n",
       "      <td>-0.041571</td>\n",
       "      <td>-0.222087</td>\n",
       "      <td>-0.289129</td>\n",
       "      <td>dns</td>\n",
       "      <td>...</td>\n",
       "      <td>-0.197064</td>\n",
       "      <td>-0.132412</td>\n",
       "      <td>-0.111932</td>\n",
       "      <td>-0.572497</td>\n",
       "      <td>-0.552931</td>\n",
       "      <td>-0.666192</td>\n",
       "      <td>-0.597095</td>\n",
       "      <td>-0.429343</td>\n",
       "      <td>-0.419600</td>\n",
       "      <td>-0.430211</td>\n",
       "    </tr>\n",
       "  </tbody>\n",
       "</table>\n",
       "<p>5 rows × 43 columns</p>\n",
       "</div>"
      ],
      "text/plain": [
       "Name    proto state       dur    sbytes    dbytes      sttl      dttl  \\\n",
       "752174    udp   CON -0.046496 -0.072279 -0.225577 -0.425819 -0.041571   \n",
       "328310    udp   CON -0.046498 -0.072279 -0.225577 -0.425819 -0.041571   \n",
       "1429547   udp   INT -0.046569 -0.070266 -0.226682 -0.037172 -0.717922   \n",
       "528257    tcp   FIN -0.046209 -0.007918 -0.211438 -0.425819 -0.041571   \n",
       "1810467   udp   CON -0.046490 -0.072279 -0.225577 -0.425819 -0.041571   \n",
       "\n",
       "Name        sloss     dloss service  ...  ct_flw_http_mthd  is_ftp_login  \\\n",
       "752174  -0.222087 -0.289129     dns  ...         -0.197064     -0.132412   \n",
       "328310  -0.222087 -0.289129     dns  ...         -0.197064     -0.132412   \n",
       "1429547 -0.222087 -0.289129     dns  ...         -0.197064     -0.132412   \n",
       "528257   0.078012 -0.165407    None  ...         -0.197064     -0.132412   \n",
       "1810467 -0.222087 -0.289129     dns  ...         -0.197064     -0.132412   \n",
       "\n",
       "Name     ct_ftp_cmd  ct_srv_src  ct_srv_dst  ct_dst_ltm  ct_src_ ltm  \\\n",
       "752174    -0.111932   -0.664805   -0.645360   -0.543699    -0.475247   \n",
       "328310    -0.111932   -0.387880   -0.645360   -0.053726    -0.475247   \n",
       "1429547   -0.111932    2.012138    2.035084    2.273645     2.205408   \n",
       "528257    -0.111932   -0.203263    0.001643   -0.053726    -0.109704   \n",
       "1810467   -0.111932   -0.572497   -0.552931   -0.666192    -0.597095   \n",
       "\n",
       "Name     ct_src_dport_ltm  ct_dst_sport_ltm  ct_dst_src_ltm  \n",
       "752174          -0.429343         -0.419600       -0.519068  \n",
       "328310          -0.429343         -0.419600       -0.519068  \n",
       "1429547          2.400682          3.468828        2.146654  \n",
       "528257          -0.429343         -0.419600       -0.252496  \n",
       "1810467         -0.429343         -0.419600       -0.430211  \n",
       "\n",
       "[5 rows x 43 columns]"
      ]
     },
     "execution_count": 56,
     "metadata": {},
     "output_type": "execute_result"
    }
   ],
   "source": [
    "x_test.head()"
   ]
  },
  {
   "cell_type": "code",
   "execution_count": 57,
   "id": "b3d9c712",
   "metadata": {},
   "outputs": [
    {
     "data": {
      "text/plain": [
       "pandas.core.frame.DataFrame"
      ]
     },
     "execution_count": 57,
     "metadata": {},
     "output_type": "execute_result"
    }
   ],
   "source": [
    "type(x_train)"
   ]
  },
  {
   "cell_type": "code",
   "execution_count": 58,
   "id": "a19e0b47",
   "metadata": {},
   "outputs": [
    {
     "data": {
      "text/plain": [
       "(1625629, 43)"
      ]
     },
     "execution_count": 58,
     "metadata": {},
     "output_type": "execute_result"
    }
   ],
   "source": [
    "x_train.shape"
   ]
  },
  {
   "cell_type": "code",
   "execution_count": 59,
   "id": "29bbd26f",
   "metadata": {},
   "outputs": [
    {
     "data": {
      "text/plain": [
       "(508010, 43)"
      ]
     },
     "execution_count": 59,
     "metadata": {},
     "output_type": "execute_result"
    }
   ],
   "source": [
    "x_test.shape"
   ]
  },
  {
   "cell_type": "code",
   "execution_count": 60,
   "id": "e9dcf020",
   "metadata": {},
   "outputs": [
    {
     "data": {
      "text/plain": [
       "(406408, 43)"
      ]
     },
     "execution_count": 60,
     "metadata": {},
     "output_type": "execute_result"
    }
   ],
   "source": [
    "x_val.shape"
   ]
  },
  {
   "cell_type": "code",
   "execution_count": 61,
   "id": "d32ae12c",
   "metadata": {},
   "outputs": [],
   "source": [
    "ct = ColumnTransformer(transformers=[('encoder', OneHotEncoder(sparse_output=False), cat_col)], remainder='passthrough')\n",
    "x_train = np.array(ct.fit_transform(x_train))\n",
    "x_test = np.array(ct.transform(x_test))\n",
    "x_val = np.array(ct.transform(x_val))"
   ]
  },
  {
   "cell_type": "code",
   "execution_count": 62,
   "id": "0a9e788f",
   "metadata": {},
   "outputs": [
    {
     "name": "stdout",
     "output_type": "stream",
     "text": [
      "<class 'pandas.core.frame.DataFrame'>\n",
      "Index: 1625629 entries, 1070804 to 2148776\n",
      "Data columns (total 1 columns):\n",
      " #   Column      Non-Null Count    Dtype \n",
      "---  ------      --------------    ----- \n",
      " 0   attack_cat  1625629 non-null  object\n",
      "dtypes: object(1)\n",
      "memory usage: 24.8+ MB\n"
     ]
    }
   ],
   "source": [
    "y_train.info()"
   ]
  },
  {
   "cell_type": "code",
   "execution_count": 63,
   "id": "359c838c",
   "metadata": {},
   "outputs": [
    {
     "data": {
      "text/plain": [
       "Index(['attack_cat'], dtype='object', name='Name')"
      ]
     },
     "execution_count": 63,
     "metadata": {},
     "output_type": "execute_result"
    }
   ],
   "source": [
    "y_train.columns"
   ]
  },
  {
   "cell_type": "code",
   "execution_count": 64,
   "id": "9921df16",
   "metadata": {},
   "outputs": [],
   "source": [
    "attacks = y_train['attack_cat'].unique()"
   ]
  },
  {
   "cell_type": "code",
   "execution_count": 65,
   "id": "477c014d",
   "metadata": {},
   "outputs": [
    {
     "data": {
      "text/plain": [
       "array(['normal', 'generic', 'fuzzers', 'exploits', 'dos',\n",
       "       'reconnaissance', 'backdoor', 'analysis', 'shellcode', 'worms'],\n",
       "      dtype=object)"
      ]
     },
     "execution_count": 65,
     "metadata": {},
     "output_type": "execute_result"
    }
   ],
   "source": [
    "attacks"
   ]
  },
  {
   "cell_type": "code",
   "execution_count": 66,
   "id": "8c5a4971",
   "metadata": {},
   "outputs": [
    {
     "name": "stdout",
     "output_type": "stream",
     "text": [
      "Value: analysis, Count: 1716\n",
      "Value: backdoor, Count: 1499\n",
      "Value: dos, Count: 10454\n",
      "Value: exploits, Count: 28640\n",
      "Value: fuzzers, Count: 15494\n",
      "Value: generic, Count: 137574\n",
      "Value: normal, Count: 1420187\n",
      "Value: reconnaissance, Count: 8985\n",
      "Value: shellcode, Count: 979\n",
      "Value: worms, Count: 101\n"
     ]
    }
   ],
   "source": [
    "# Get unique elements and their counts\n",
    "unique_values, counts = np.unique(y_train, return_counts=True)\n",
    "\n",
    "# Print the unique values and their corresponding counts\n",
    "for value, count in zip(unique_values, counts):\n",
    "    print(f\"Value: {value}, Count: {count}\")"
   ]
  },
  {
   "cell_type": "code",
   "execution_count": 67,
   "id": "09603327",
   "metadata": {},
   "outputs": [
    {
     "name": "stdout",
     "output_type": "stream",
     "text": [
      "Value: analysis, Count: 544\n",
      "Value: backdoor, Count: 470\n",
      "Value: dos, Count: 3288\n",
      "Value: exploits, Count: 8709\n",
      "Value: fuzzers, Count: 4928\n",
      "Value: generic, Count: 43187\n",
      "Value: normal, Count: 443714\n",
      "Value: reconnaissance, Count: 2813\n",
      "Value: shellcode, Count: 320\n",
      "Value: worms, Count: 37\n"
     ]
    }
   ],
   "source": [
    "# Get unique elements and their counts\n",
    "unique_values, counts = np.unique(y_test, return_counts=True)\n",
    "\n",
    "# Print the unique values and their corresponding counts\n",
    "for value, count in zip(unique_values, counts):\n",
    "    print(f\"Value: {value}, Count: {count}\")"
   ]
  },
  {
   "cell_type": "code",
   "execution_count": 68,
   "id": "31d648bd",
   "metadata": {},
   "outputs": [],
   "source": [
    "ct1 = ColumnTransformer(transformers=[('encoder', OneHotEncoder(categories=[attacks],sparse_output=False), ['attack_cat'])], remainder='passthrough')\n",
    "y_train = np.array(ct1.fit_transform(y_train))\n",
    "y_test = np.array(ct1.transform(y_test))\n",
    "y_val = np.array(ct1.transform(y_val))"
   ]
  },
  {
   "cell_type": "code",
   "execution_count": 69,
   "id": "47f90abc",
   "metadata": {},
   "outputs": [
    {
     "name": "stdout",
     "output_type": "stream",
     "text": [
      "[[ 0.          0.          0.         ... -0.42934342 -0.41959965\n",
      "  -0.34135356]\n",
      " [ 0.          0.          0.         ... -0.42934342 -0.41959965\n",
      "  -0.51906841]\n",
      " [ 0.          0.          0.         ... -0.42934342 -0.41959965\n",
      "  -0.51906841]\n",
      " ...\n",
      " [ 0.          0.          0.         ...  1.5752582   2.33470341\n",
      "   2.85751364]\n",
      " [ 0.          0.          0.         ... -0.42934342 -0.41959965\n",
      "  -0.51906841]\n",
      " [ 0.          0.          0.         ... -0.31142568 -0.25758182\n",
      "  -0.43021098]]\n"
     ]
    }
   ],
   "source": [
    "print(x_train)"
   ]
  },
  {
   "cell_type": "code",
   "execution_count": 70,
   "id": "87e1458f",
   "metadata": {},
   "outputs": [
    {
     "name": "stdout",
     "output_type": "stream",
     "text": [
      "[[ 0.          0.          0.         ... -0.42934342 -0.41959965\n",
      "  -0.51906841]\n",
      " [ 0.          0.          0.         ... -0.42934342 -0.41959965\n",
      "  -0.51906841]\n",
      " [ 0.          0.          0.         ...  2.4006824   3.4688282\n",
      "   2.14665427]\n",
      " ...\n",
      " [ 0.          0.          0.         ... -0.42934342 -0.41959965\n",
      "  -0.25249614]\n",
      " [ 0.          0.          0.         ... -0.42934342 -0.41959965\n",
      "  -0.51906841]\n",
      " [ 0.          0.          0.         ...  1.45734046  2.17268558\n",
      "   0.90265035]]\n"
     ]
    }
   ],
   "source": [
    "print(x_test)"
   ]
  },
  {
   "cell_type": "code",
   "execution_count": 71,
   "id": "6f6c8841",
   "metadata": {},
   "outputs": [
    {
     "name": "stdout",
     "output_type": "stream",
     "text": [
      "[[1. 0. 0. ... 0. 0. 0.]\n",
      " [1. 0. 0. ... 0. 0. 0.]\n",
      " [1. 0. 0. ... 0. 0. 0.]\n",
      " ...\n",
      " [1. 0. 0. ... 0. 0. 0.]\n",
      " [1. 0. 0. ... 0. 0. 0.]\n",
      " [1. 0. 0. ... 0. 0. 0.]]\n"
     ]
    }
   ],
   "source": [
    "print(y_train)"
   ]
  },
  {
   "cell_type": "code",
   "execution_count": 72,
   "id": "57ad19fd",
   "metadata": {},
   "outputs": [
    {
     "name": "stdout",
     "output_type": "stream",
     "text": [
      "[[1. 0. 0. ... 0. 0. 0.]\n",
      " [1. 0. 0. ... 0. 0. 0.]\n",
      " [1. 0. 0. ... 0. 0. 0.]\n",
      " ...\n",
      " [1. 0. 0. ... 0. 0. 0.]\n",
      " [1. 0. 0. ... 0. 0. 0.]\n",
      " [0. 1. 0. ... 0. 0. 0.]]\n"
     ]
    }
   ],
   "source": [
    "print(y_test)"
   ]
  },
  {
   "cell_type": "code",
   "execution_count": 73,
   "id": "1bdf627b",
   "metadata": {},
   "outputs": [
    {
     "data": {
      "text/plain": [
       "(1625629, 10)"
      ]
     },
     "execution_count": 73,
     "metadata": {},
     "output_type": "execute_result"
    }
   ],
   "source": [
    "y_train.shape"
   ]
  },
  {
   "cell_type": "code",
   "execution_count": 74,
   "id": "595b0bc4",
   "metadata": {},
   "outputs": [
    {
     "data": {
      "text/plain": [
       "(1625629, 204)"
      ]
     },
     "execution_count": 74,
     "metadata": {},
     "output_type": "execute_result"
    }
   ],
   "source": [
    "x_train.shape"
   ]
  },
  {
   "cell_type": "code",
   "execution_count": 75,
   "id": "80d8761b",
   "metadata": {},
   "outputs": [
    {
     "data": {
      "text/plain": [
       "(508010, 204)"
      ]
     },
     "execution_count": 75,
     "metadata": {},
     "output_type": "execute_result"
    }
   ],
   "source": [
    "x_test.shape"
   ]
  },
  {
   "cell_type": "code",
   "execution_count": 76,
   "id": "e7f4a664",
   "metadata": {},
   "outputs": [
    {
     "data": {
      "text/plain": [
       "(331628316, 1)"
      ]
     },
     "execution_count": 76,
     "metadata": {},
     "output_type": "execute_result"
    }
   ],
   "source": [
    "x_train.reshape(-1,1).shape"
   ]
  },
  {
   "cell_type": "code",
   "execution_count": 77,
   "id": "0fdafc38",
   "metadata": {},
   "outputs": [
    {
     "data": {
      "text/plain": [
       "(1625629, 204)"
      ]
     },
     "execution_count": 77,
     "metadata": {},
     "output_type": "execute_result"
    }
   ],
   "source": [
    "x_train.shape"
   ]
  },
  {
   "cell_type": "code",
   "execution_count": 78,
   "id": "3fea4e6d",
   "metadata": {},
   "outputs": [
    {
     "data": {
      "text/plain": [
       "(406408, 204)"
      ]
     },
     "execution_count": 78,
     "metadata": {},
     "output_type": "execute_result"
    }
   ],
   "source": [
    "x_val.shape"
   ]
  },
  {
   "cell_type": "code",
   "execution_count": 79,
   "id": "a1ca88c7",
   "metadata": {},
   "outputs": [],
   "source": [
    "#Training model"
   ]
  },
  {
   "cell_type": "code",
   "execution_count": 80,
   "id": "db7705ce",
   "metadata": {},
   "outputs": [],
   "source": [
    "from tensorflow.keras.models import Sequential\n",
    "from tensorflow.keras.layers import Conv1D, MaxPooling1D, BatchNormalization, LSTM, Dense, Dropout\n"
   ]
  },
  {
   "cell_type": "code",
   "execution_count": 81,
   "id": "7e7ec747",
   "metadata": {},
   "outputs": [
    {
     "name": "stderr",
     "output_type": "stream",
     "text": [
      "C:\\Users\\rohit\\anaconda3\\lib\\site-packages\\keras\\src\\layers\\convolutional\\base_conv.py:107: UserWarning: Do not pass an `input_shape`/`input_dim` argument to a layer. When using Sequential models, prefer using an `Input(shape)` object as the first layer in the model instead.\n",
      "  super().__init__(activity_regularizer=activity_regularizer, **kwargs)\n"
     ]
    },
    {
     "data": {
      "text/html": [
       "<pre style=\"white-space:pre;overflow-x:auto;line-height:normal;font-family:Menlo,'DejaVu Sans Mono',consolas,'Courier New',monospace\"><span style=\"font-weight: bold\">Model: \"sequential\"</span>\n",
       "</pre>\n"
      ],
      "text/plain": [
       "\u001b[1mModel: \"sequential\"\u001b[0m\n"
      ]
     },
     "metadata": {},
     "output_type": "display_data"
    },
    {
     "data": {
      "text/html": [
       "<pre style=\"white-space:pre;overflow-x:auto;line-height:normal;font-family:Menlo,'DejaVu Sans Mono',consolas,'Courier New',monospace\">┏━━━━━━━━━━━━━━━━━━━━━━━━━━━━━━━━━━━━━━┳━━━━━━━━━━━━━━━━━━━━━━━━━━━━━┳━━━━━━━━━━━━━━━━━┓\n",
       "┃<span style=\"font-weight: bold\"> Layer (type)                         </span>┃<span style=\"font-weight: bold\"> Output Shape                </span>┃<span style=\"font-weight: bold\">         Param # </span>┃\n",
       "┡━━━━━━━━━━━━━━━━━━━━━━━━━━━━━━━━━━━━━━╇━━━━━━━━━━━━━━━━━━━━━━━━━━━━━╇━━━━━━━━━━━━━━━━━┩\n",
       "│ conv1d (<span style=\"color: #0087ff; text-decoration-color: #0087ff\">Conv1D</span>)                      │ (<span style=\"color: #00d7ff; text-decoration-color: #00d7ff\">None</span>, <span style=\"color: #00af00; text-decoration-color: #00af00\">204</span>, <span style=\"color: #00af00; text-decoration-color: #00af00\">16</span>)             │              <span style=\"color: #00af00; text-decoration-color: #00af00\">32</span> │\n",
       "├──────────────────────────────────────┼─────────────────────────────┼─────────────────┤\n",
       "│ max_pooling1d (<span style=\"color: #0087ff; text-decoration-color: #0087ff\">MaxPooling1D</span>)         │ (<span style=\"color: #00d7ff; text-decoration-color: #00d7ff\">None</span>, <span style=\"color: #00af00; text-decoration-color: #00af00\">102</span>, <span style=\"color: #00af00; text-decoration-color: #00af00\">16</span>)             │               <span style=\"color: #00af00; text-decoration-color: #00af00\">0</span> │\n",
       "├──────────────────────────────────────┼─────────────────────────────┼─────────────────┤\n",
       "│ batch_normalization                  │ (<span style=\"color: #00d7ff; text-decoration-color: #00d7ff\">None</span>, <span style=\"color: #00af00; text-decoration-color: #00af00\">102</span>, <span style=\"color: #00af00; text-decoration-color: #00af00\">16</span>)             │              <span style=\"color: #00af00; text-decoration-color: #00af00\">64</span> │\n",
       "│ (<span style=\"color: #0087ff; text-decoration-color: #0087ff\">BatchNormalization</span>)                 │                             │                 │\n",
       "├──────────────────────────────────────┼─────────────────────────────┼─────────────────┤\n",
       "│ lstm (<span style=\"color: #0087ff; text-decoration-color: #0087ff\">LSTM</span>)                          │ (<span style=\"color: #00d7ff; text-decoration-color: #00d7ff\">None</span>, <span style=\"color: #00af00; text-decoration-color: #00af00\">102</span>, <span style=\"color: #00af00; text-decoration-color: #00af00\">16</span>)             │           <span style=\"color: #00af00; text-decoration-color: #00af00\">2,112</span> │\n",
       "├──────────────────────────────────────┼─────────────────────────────┼─────────────────┤\n",
       "│ conv1d_1 (<span style=\"color: #0087ff; text-decoration-color: #0087ff\">Conv1D</span>)                    │ (<span style=\"color: #00d7ff; text-decoration-color: #00d7ff\">None</span>, <span style=\"color: #00af00; text-decoration-color: #00af00\">100</span>, <span style=\"color: #00af00; text-decoration-color: #00af00\">32</span>)             │           <span style=\"color: #00af00; text-decoration-color: #00af00\">1,568</span> │\n",
       "├──────────────────────────────────────┼─────────────────────────────┼─────────────────┤\n",
       "│ max_pooling1d_1 (<span style=\"color: #0087ff; text-decoration-color: #0087ff\">MaxPooling1D</span>)       │ (<span style=\"color: #00d7ff; text-decoration-color: #00d7ff\">None</span>, <span style=\"color: #00af00; text-decoration-color: #00af00\">50</span>, <span style=\"color: #00af00; text-decoration-color: #00af00\">32</span>)              │               <span style=\"color: #00af00; text-decoration-color: #00af00\">0</span> │\n",
       "├──────────────────────────────────────┼─────────────────────────────┼─────────────────┤\n",
       "│ batch_normalization_1                │ (<span style=\"color: #00d7ff; text-decoration-color: #00d7ff\">None</span>, <span style=\"color: #00af00; text-decoration-color: #00af00\">50</span>, <span style=\"color: #00af00; text-decoration-color: #00af00\">32</span>)              │             <span style=\"color: #00af00; text-decoration-color: #00af00\">128</span> │\n",
       "│ (<span style=\"color: #0087ff; text-decoration-color: #0087ff\">BatchNormalization</span>)                 │                             │                 │\n",
       "├──────────────────────────────────────┼─────────────────────────────┼─────────────────┤\n",
       "│ lstm_1 (<span style=\"color: #0087ff; text-decoration-color: #0087ff\">LSTM</span>)                        │ (<span style=\"color: #00d7ff; text-decoration-color: #00d7ff\">None</span>, <span style=\"color: #00af00; text-decoration-color: #00af00\">50</span>, <span style=\"color: #00af00; text-decoration-color: #00af00\">32</span>)              │           <span style=\"color: #00af00; text-decoration-color: #00af00\">8,320</span> │\n",
       "├──────────────────────────────────────┼─────────────────────────────┼─────────────────┤\n",
       "│ conv1d_2 (<span style=\"color: #0087ff; text-decoration-color: #0087ff\">Conv1D</span>)                    │ (<span style=\"color: #00d7ff; text-decoration-color: #00d7ff\">None</span>, <span style=\"color: #00af00; text-decoration-color: #00af00\">46</span>, <span style=\"color: #00af00; text-decoration-color: #00af00\">64</span>)              │          <span style=\"color: #00af00; text-decoration-color: #00af00\">10,304</span> │\n",
       "├──────────────────────────────────────┼─────────────────────────────┼─────────────────┤\n",
       "│ max_pooling1d_2 (<span style=\"color: #0087ff; text-decoration-color: #0087ff\">MaxPooling1D</span>)       │ (<span style=\"color: #00d7ff; text-decoration-color: #00d7ff\">None</span>, <span style=\"color: #00af00; text-decoration-color: #00af00\">23</span>, <span style=\"color: #00af00; text-decoration-color: #00af00\">64</span>)              │               <span style=\"color: #00af00; text-decoration-color: #00af00\">0</span> │\n",
       "├──────────────────────────────────────┼─────────────────────────────┼─────────────────┤\n",
       "│ batch_normalization_2                │ (<span style=\"color: #00d7ff; text-decoration-color: #00d7ff\">None</span>, <span style=\"color: #00af00; text-decoration-color: #00af00\">23</span>, <span style=\"color: #00af00; text-decoration-color: #00af00\">64</span>)              │             <span style=\"color: #00af00; text-decoration-color: #00af00\">256</span> │\n",
       "│ (<span style=\"color: #0087ff; text-decoration-color: #0087ff\">BatchNormalization</span>)                 │                             │                 │\n",
       "├──────────────────────────────────────┼─────────────────────────────┼─────────────────┤\n",
       "│ lstm_2 (<span style=\"color: #0087ff; text-decoration-color: #0087ff\">LSTM</span>)                        │ (<span style=\"color: #00d7ff; text-decoration-color: #00d7ff\">None</span>, <span style=\"color: #00af00; text-decoration-color: #00af00\">64</span>)                  │          <span style=\"color: #00af00; text-decoration-color: #00af00\">33,024</span> │\n",
       "├──────────────────────────────────────┼─────────────────────────────┼─────────────────┤\n",
       "│ dense (<span style=\"color: #0087ff; text-decoration-color: #0087ff\">Dense</span>)                        │ (<span style=\"color: #00d7ff; text-decoration-color: #00d7ff\">None</span>, <span style=\"color: #00af00; text-decoration-color: #00af00\">64</span>)                  │           <span style=\"color: #00af00; text-decoration-color: #00af00\">4,160</span> │\n",
       "├──────────────────────────────────────┼─────────────────────────────┼─────────────────┤\n",
       "│ dropout (<span style=\"color: #0087ff; text-decoration-color: #0087ff\">Dropout</span>)                    │ (<span style=\"color: #00d7ff; text-decoration-color: #00d7ff\">None</span>, <span style=\"color: #00af00; text-decoration-color: #00af00\">64</span>)                  │               <span style=\"color: #00af00; text-decoration-color: #00af00\">0</span> │\n",
       "├──────────────────────────────────────┼─────────────────────────────┼─────────────────┤\n",
       "│ dense_1 (<span style=\"color: #0087ff; text-decoration-color: #0087ff\">Dense</span>)                      │ (<span style=\"color: #00d7ff; text-decoration-color: #00d7ff\">None</span>, <span style=\"color: #00af00; text-decoration-color: #00af00\">10</span>)                  │             <span style=\"color: #00af00; text-decoration-color: #00af00\">650</span> │\n",
       "└──────────────────────────────────────┴─────────────────────────────┴─────────────────┘\n",
       "</pre>\n"
      ],
      "text/plain": [
       "┏━━━━━━━━━━━━━━━━━━━━━━━━━━━━━━━━━━━━━━┳━━━━━━━━━━━━━━━━━━━━━━━━━━━━━┳━━━━━━━━━━━━━━━━━┓\n",
       "┃\u001b[1m \u001b[0m\u001b[1mLayer (type)                        \u001b[0m\u001b[1m \u001b[0m┃\u001b[1m \u001b[0m\u001b[1mOutput Shape               \u001b[0m\u001b[1m \u001b[0m┃\u001b[1m \u001b[0m\u001b[1m        Param #\u001b[0m\u001b[1m \u001b[0m┃\n",
       "┡━━━━━━━━━━━━━━━━━━━━━━━━━━━━━━━━━━━━━━╇━━━━━━━━━━━━━━━━━━━━━━━━━━━━━╇━━━━━━━━━━━━━━━━━┩\n",
       "│ conv1d (\u001b[38;5;33mConv1D\u001b[0m)                      │ (\u001b[38;5;45mNone\u001b[0m, \u001b[38;5;34m204\u001b[0m, \u001b[38;5;34m16\u001b[0m)             │              \u001b[38;5;34m32\u001b[0m │\n",
       "├──────────────────────────────────────┼─────────────────────────────┼─────────────────┤\n",
       "│ max_pooling1d (\u001b[38;5;33mMaxPooling1D\u001b[0m)         │ (\u001b[38;5;45mNone\u001b[0m, \u001b[38;5;34m102\u001b[0m, \u001b[38;5;34m16\u001b[0m)             │               \u001b[38;5;34m0\u001b[0m │\n",
       "├──────────────────────────────────────┼─────────────────────────────┼─────────────────┤\n",
       "│ batch_normalization                  │ (\u001b[38;5;45mNone\u001b[0m, \u001b[38;5;34m102\u001b[0m, \u001b[38;5;34m16\u001b[0m)             │              \u001b[38;5;34m64\u001b[0m │\n",
       "│ (\u001b[38;5;33mBatchNormalization\u001b[0m)                 │                             │                 │\n",
       "├──────────────────────────────────────┼─────────────────────────────┼─────────────────┤\n",
       "│ lstm (\u001b[38;5;33mLSTM\u001b[0m)                          │ (\u001b[38;5;45mNone\u001b[0m, \u001b[38;5;34m102\u001b[0m, \u001b[38;5;34m16\u001b[0m)             │           \u001b[38;5;34m2,112\u001b[0m │\n",
       "├──────────────────────────────────────┼─────────────────────────────┼─────────────────┤\n",
       "│ conv1d_1 (\u001b[38;5;33mConv1D\u001b[0m)                    │ (\u001b[38;5;45mNone\u001b[0m, \u001b[38;5;34m100\u001b[0m, \u001b[38;5;34m32\u001b[0m)             │           \u001b[38;5;34m1,568\u001b[0m │\n",
       "├──────────────────────────────────────┼─────────────────────────────┼─────────────────┤\n",
       "│ max_pooling1d_1 (\u001b[38;5;33mMaxPooling1D\u001b[0m)       │ (\u001b[38;5;45mNone\u001b[0m, \u001b[38;5;34m50\u001b[0m, \u001b[38;5;34m32\u001b[0m)              │               \u001b[38;5;34m0\u001b[0m │\n",
       "├──────────────────────────────────────┼─────────────────────────────┼─────────────────┤\n",
       "│ batch_normalization_1                │ (\u001b[38;5;45mNone\u001b[0m, \u001b[38;5;34m50\u001b[0m, \u001b[38;5;34m32\u001b[0m)              │             \u001b[38;5;34m128\u001b[0m │\n",
       "│ (\u001b[38;5;33mBatchNormalization\u001b[0m)                 │                             │                 │\n",
       "├──────────────────────────────────────┼─────────────────────────────┼─────────────────┤\n",
       "│ lstm_1 (\u001b[38;5;33mLSTM\u001b[0m)                        │ (\u001b[38;5;45mNone\u001b[0m, \u001b[38;5;34m50\u001b[0m, \u001b[38;5;34m32\u001b[0m)              │           \u001b[38;5;34m8,320\u001b[0m │\n",
       "├──────────────────────────────────────┼─────────────────────────────┼─────────────────┤\n",
       "│ conv1d_2 (\u001b[38;5;33mConv1D\u001b[0m)                    │ (\u001b[38;5;45mNone\u001b[0m, \u001b[38;5;34m46\u001b[0m, \u001b[38;5;34m64\u001b[0m)              │          \u001b[38;5;34m10,304\u001b[0m │\n",
       "├──────────────────────────────────────┼─────────────────────────────┼─────────────────┤\n",
       "│ max_pooling1d_2 (\u001b[38;5;33mMaxPooling1D\u001b[0m)       │ (\u001b[38;5;45mNone\u001b[0m, \u001b[38;5;34m23\u001b[0m, \u001b[38;5;34m64\u001b[0m)              │               \u001b[38;5;34m0\u001b[0m │\n",
       "├──────────────────────────────────────┼─────────────────────────────┼─────────────────┤\n",
       "│ batch_normalization_2                │ (\u001b[38;5;45mNone\u001b[0m, \u001b[38;5;34m23\u001b[0m, \u001b[38;5;34m64\u001b[0m)              │             \u001b[38;5;34m256\u001b[0m │\n",
       "│ (\u001b[38;5;33mBatchNormalization\u001b[0m)                 │                             │                 │\n",
       "├──────────────────────────────────────┼─────────────────────────────┼─────────────────┤\n",
       "│ lstm_2 (\u001b[38;5;33mLSTM\u001b[0m)                        │ (\u001b[38;5;45mNone\u001b[0m, \u001b[38;5;34m64\u001b[0m)                  │          \u001b[38;5;34m33,024\u001b[0m │\n",
       "├──────────────────────────────────────┼─────────────────────────────┼─────────────────┤\n",
       "│ dense (\u001b[38;5;33mDense\u001b[0m)                        │ (\u001b[38;5;45mNone\u001b[0m, \u001b[38;5;34m64\u001b[0m)                  │           \u001b[38;5;34m4,160\u001b[0m │\n",
       "├──────────────────────────────────────┼─────────────────────────────┼─────────────────┤\n",
       "│ dropout (\u001b[38;5;33mDropout\u001b[0m)                    │ (\u001b[38;5;45mNone\u001b[0m, \u001b[38;5;34m64\u001b[0m)                  │               \u001b[38;5;34m0\u001b[0m │\n",
       "├──────────────────────────────────────┼─────────────────────────────┼─────────────────┤\n",
       "│ dense_1 (\u001b[38;5;33mDense\u001b[0m)                      │ (\u001b[38;5;45mNone\u001b[0m, \u001b[38;5;34m10\u001b[0m)                  │             \u001b[38;5;34m650\u001b[0m │\n",
       "└──────────────────────────────────────┴─────────────────────────────┴─────────────────┘\n"
      ]
     },
     "metadata": {},
     "output_type": "display_data"
    },
    {
     "data": {
      "text/html": [
       "<pre style=\"white-space:pre;overflow-x:auto;line-height:normal;font-family:Menlo,'DejaVu Sans Mono',consolas,'Courier New',monospace\"><span style=\"font-weight: bold\"> Total params: </span><span style=\"color: #00af00; text-decoration-color: #00af00\">60,618</span> (236.79 KB)\n",
       "</pre>\n"
      ],
      "text/plain": [
       "\u001b[1m Total params: \u001b[0m\u001b[38;5;34m60,618\u001b[0m (236.79 KB)\n"
      ]
     },
     "metadata": {},
     "output_type": "display_data"
    },
    {
     "data": {
      "text/html": [
       "<pre style=\"white-space:pre;overflow-x:auto;line-height:normal;font-family:Menlo,'DejaVu Sans Mono',consolas,'Courier New',monospace\"><span style=\"font-weight: bold\"> Trainable params: </span><span style=\"color: #00af00; text-decoration-color: #00af00\">60,394</span> (235.91 KB)\n",
       "</pre>\n"
      ],
      "text/plain": [
       "\u001b[1m Trainable params: \u001b[0m\u001b[38;5;34m60,394\u001b[0m (235.91 KB)\n"
      ]
     },
     "metadata": {},
     "output_type": "display_data"
    },
    {
     "data": {
      "text/html": [
       "<pre style=\"white-space:pre;overflow-x:auto;line-height:normal;font-family:Menlo,'DejaVu Sans Mono',consolas,'Courier New',monospace\"><span style=\"font-weight: bold\"> Non-trainable params: </span><span style=\"color: #00af00; text-decoration-color: #00af00\">224</span> (896.00 B)\n",
       "</pre>\n"
      ],
      "text/plain": [
       "\u001b[1m Non-trainable params: \u001b[0m\u001b[38;5;34m224\u001b[0m (896.00 B)\n"
      ]
     },
     "metadata": {},
     "output_type": "display_data"
    }
   ],
   "source": [
    "# Define model parameters\n",
    "n_features = x_train.shape[1]  # Number of features from training data\n",
    "\n",
    "# Define the model\n",
    "model = Sequential()\n",
    "\n",
    "# First convolutional block\n",
    "model.add(Conv1D(filters=16, kernel_size=1, activation='relu', input_shape=(n_features,1)))\n",
    "model.add(MaxPooling1D(pool_size=2))\n",
    "model.add(BatchNormalization())\n",
    "\n",
    "# First LSTM block\n",
    "model.add(LSTM(units=16, return_sequences=True))\n",
    "#model.add(Dropout(0.2))  # Added dropout after LSTM\n",
    "\n",
    "# Second convolutional block\n",
    "model.add(Conv1D(filters=32, kernel_size=3, activation='relu'))\n",
    "model.add(MaxPooling1D(pool_size=2))\n",
    "model.add(BatchNormalization())\n",
    "\n",
    "# Second LSTM block\n",
    "model.add(LSTM(units=32, return_sequences=True))\n",
    "#model.add(Dropout(0.2))  # Added dropout after LSTM\n",
    "\n",
    "# Third convolutional block\n",
    "model.add(Conv1D(filters=64, kernel_size=5, activation='relu'))\n",
    "model.add(MaxPooling1D(pool_size=2))\n",
    "model.add(BatchNormalization())\n",
    "\n",
    "# Third LSTM block\n",
    "model.add(LSTM(units=64))\n",
    "#model.add(Dropout(0.2))  # Added dropout after LSTM\n",
    "\n",
    "# Dense layers\n",
    "model.add(Dense(64, activation='relu'))\n",
    "model.add(Dropout(0.2))  # Adjusted dropout rate for dense layer\n",
    "\n",
    "model.add(Dense(10, activation='softmax'))  # Output layer for 10 classes\n",
    "\n",
    "# Compile the model\n",
    "model.compile(optimizer='adam', loss='categorical_crossentropy', metrics=['accuracy', tf.keras.metrics.Precision(), tf.keras.metrics.Recall()])\n",
    "\n",
    "model.summary()"
   ]
  },
  {
   "cell_type": "code",
   "execution_count": 82,
   "id": "00a3ca24",
   "metadata": {},
   "outputs": [],
   "source": [
    "def create_model():\n",
    "    n_features = x_train.shape[1]  # Number of features from training data\n",
    "\n",
    "    # Define the model\n",
    "    model = Sequential()\n",
    "\n",
    "    # First convolutional block\n",
    "    model.add(Conv1D(filters=16, kernel_size=1, activation='relu', input_shape=(n_features,1)))\n",
    "    model.add(MaxPooling1D(pool_size=2))\n",
    "    model.add(BatchNormalization())\n",
    "\n",
    "    # First LSTM block\n",
    "    model.add(LSTM(units=16, return_sequences=True))\n",
    "    #model.add(Dropout(0.2))  # Added dropout after LSTM\n",
    "\n",
    "    # Second convolutional block\n",
    "    model.add(Conv1D(filters=32, kernel_size=3, activation='relu'))\n",
    "    model.add(MaxPooling1D(pool_size=2))\n",
    "    model.add(BatchNormalization())\n",
    "\n",
    "    # Second LSTM block\n",
    "    model.add(LSTM(units=32, return_sequences=True))\n",
    "    #model.add(Dropout(0.2))  # Added dropout after LSTM\n",
    "\n",
    "    # Third convolutional block\n",
    "    model.add(Conv1D(filters=64, kernel_size=5, activation='relu'))\n",
    "    model.add(MaxPooling1D(pool_size=2))\n",
    "    model.add(BatchNormalization())\n",
    "\n",
    "    # Third LSTM block\n",
    "    model.add(LSTM(units=64))\n",
    "    #model.add(Dropout(0.2))  # Added dropout after LSTM\n",
    "\n",
    "    # Dense layers\n",
    "    model.add(Dense(64, activation='relu'))\n",
    "    model.add(Dropout(0.2))  # Adjusted dropout rate for dense layer\n",
    "\n",
    "    model.add(Dense(10, activation='softmax'))  # Output layer for 10 classes\n",
    "    \n",
    "    model.compile(optimizer='adam', loss='categorical_crossentropy', metrics=['accuracy', tf.keras.metrics.Precision(), tf.keras.metrics.Recall()])\n",
    "    \n",
    "    return model"
   ]
  },
  {
   "cell_type": "code",
   "execution_count": 83,
   "id": "cfbe8c4a",
   "metadata": {},
   "outputs": [
    {
     "data": {
      "text/plain": [
       "(1625629, 204)"
      ]
     },
     "execution_count": 83,
     "metadata": {},
     "output_type": "execute_result"
    }
   ],
   "source": [
    "x_train.shape"
   ]
  },
  {
   "cell_type": "code",
   "execution_count": 84,
   "id": "4df4d2a4",
   "metadata": {},
   "outputs": [],
   "source": [
    "#training the model"
   ]
  },
  {
   "cell_type": "code",
   "execution_count": 85,
   "id": "3a28812b",
   "metadata": {
    "scrolled": true
   },
   "outputs": [
    {
     "name": "stdout",
     "output_type": "stream",
     "text": [
      "Epoch 1/5\n",
      "\u001b[1m6351/6351\u001b[0m \u001b[32m━━━━━━━━━━━━━━━━━━━━\u001b[0m\u001b[37m\u001b[0m \u001b[1m1095s\u001b[0m 170ms/step - accuracy: 0.9682 - loss: 0.0927 - precision: 0.9895 - recall: 0.9516 - val_accuracy: 0.9561 - val_loss: 0.1342 - val_precision: 0.9834 - val_recall: 0.9371\n",
      "Epoch 2/5\n",
      "\u001b[1m6351/6351\u001b[0m \u001b[32m━━━━━━━━━━━━━━━━━━━━\u001b[0m\u001b[37m\u001b[0m \u001b[1m1200s\u001b[0m 189ms/step - accuracy: 0.9760 - loss: 0.0615 - precision: 0.9897 - recall: 0.9662 - val_accuracy: 0.9772 - val_loss: 0.0579 - val_precision: 0.9886 - val_recall: 0.9691\n",
      "Epoch 3/5\n",
      "\u001b[1m6351/6351\u001b[0m \u001b[32m━━━━━━━━━━━━━━━━━━━━\u001b[0m\u001b[37m\u001b[0m \u001b[1m12583s\u001b[0m 2s/step - accuracy: 0.9774 - loss: 0.0569 - precision: 0.9901 - recall: 0.9679 - val_accuracy: 0.9782 - val_loss: 0.0540 - val_precision: 0.9910 - val_recall: 0.9689\n",
      "Epoch 4/5\n",
      "\u001b[1m6351/6351\u001b[0m \u001b[32m━━━━━━━━━━━━━━━━━━━━\u001b[0m\u001b[37m\u001b[0m \u001b[1m4063s\u001b[0m 640ms/step - accuracy: 0.9779 - loss: 0.0553 - precision: 0.9904 - recall: 0.9688 - val_accuracy: 0.9781 - val_loss: 0.0539 - val_precision: 0.9910 - val_recall: 0.9688\n",
      "Epoch 5/5\n",
      "\u001b[1m6351/6351\u001b[0m \u001b[32m━━━━━━━━━━━━━━━━━━━━\u001b[0m\u001b[37m\u001b[0m \u001b[1m778s\u001b[0m 123ms/step - accuracy: 0.9782 - loss: 0.0543 - precision: 0.9905 - recall: 0.9693 - val_accuracy: 0.9777 - val_loss: 0.0561 - val_precision: 0.9907 - val_recall: 0.9693\n",
      "\u001b[1m15876/15876\u001b[0m \u001b[32m━━━━━━━━━━━━━━━━━━━━\u001b[0m\u001b[37m\u001b[0m \u001b[1m250s\u001b[0m 16ms/step - accuracy: 0.9774 - loss: 0.0570 - precision: 0.9905 - recall: 0.9688\n",
      "Test Loss: 0.05653165280818939\n",
      "Test Accuracy: 0.9777071475982666\n",
      "Test Precision: 0.9906575083732605\n",
      "Test Recall: 0.9693490266799927\n"
     ]
    }
   ],
   "source": [
    "history = model.fit(x_train, y_train, epochs=5, batch_size=256,validation_data=(x_val,y_val))\n",
    "\n",
    " #Evaluate the model\n",
    "test_loss, test_accuracy, test_precision, test_recall = model.evaluate(x_test, y_test)\n",
    "print(\"Test Loss:\", test_loss)\n",
    "print(\"Test Accuracy:\", test_accuracy)\n",
    "print(\"Test Precision:\", test_precision)\n",
    "print(\"Test Recall:\", test_recall)"
   ]
  },
  {
   "cell_type": "code",
   "execution_count": 86,
   "id": "87047819",
   "metadata": {},
   "outputs": [],
   "source": [
    "#Testing the model with test set"
   ]
  },
  {
   "cell_type": "code",
   "execution_count": 87,
   "id": "b3b66f25",
   "metadata": {},
   "outputs": [
    {
     "name": "stdout",
     "output_type": "stream",
     "text": [
      "\u001b[1m15876/15876\u001b[0m \u001b[32m━━━━━━━━━━━━━━━━━━━━\u001b[0m\u001b[37m\u001b[0m \u001b[1m215s\u001b[0m 14ms/step\n"
     ]
    }
   ],
   "source": [
    "y_pred = model.predict(x_test)  # Assuming X_test is your test data"
   ]
  },
  {
   "cell_type": "code",
   "execution_count": 88,
   "id": "868ce916",
   "metadata": {},
   "outputs": [
    {
     "data": {
      "text/plain": [
       "array([[1.0000000e+00, 1.2172038e-11, 1.0128396e-12, ..., 3.2791616e-15,\n",
       "        3.2325081e-33, 2.0530910e-35],\n",
       "       [1.0000000e+00, 6.2076143e-12, 6.4508083e-13, ..., 8.9467590e-16,\n",
       "        6.5819855e-34, 9.3686950e-37],\n",
       "       [1.0000000e+00, 3.5895312e-10, 6.9316920e-11, ..., 1.1973057e-13,\n",
       "        2.3217220e-28, 4.2688120e-31],\n",
       "       ...,\n",
       "       [1.0000000e+00, 6.5032113e-10, 3.3795966e-11, ..., 1.0415584e-15,\n",
       "        2.3562235e-29, 1.1948090e-30],\n",
       "       [1.0000000e+00, 3.4921680e-11, 2.5682961e-12, ..., 3.8243216e-15,\n",
       "        1.8845725e-31, 1.4081379e-34],\n",
       "       [3.7254129e-08, 1.0000000e+00, 5.5293854e-09, ..., 2.0204632e-12,\n",
       "        1.0512044e-26, 2.0307301e-18]], dtype=float32)"
      ]
     },
     "execution_count": 88,
     "metadata": {},
     "output_type": "execute_result"
    }
   ],
   "source": [
    "y_pred"
   ]
  },
  {
   "cell_type": "code",
   "execution_count": 89,
   "id": "333d74f6",
   "metadata": {},
   "outputs": [],
   "source": [
    "#Stratified k-fold cross validation"
   ]
  },
  {
   "cell_type": "code",
   "execution_count": 90,
   "id": "edfd7fd5",
   "metadata": {},
   "outputs": [
    {
     "data": {
      "text/plain": [
       "array([[1., 0., 0., ..., 0., 0., 0.],\n",
       "       [1., 0., 0., ..., 0., 0., 0.],\n",
       "       [1., 0., 0., ..., 0., 0., 0.],\n",
       "       ...,\n",
       "       [1., 0., 0., ..., 0., 0., 0.],\n",
       "       [1., 0., 0., ..., 0., 0., 0.],\n",
       "       [1., 0., 0., ..., 0., 0., 0.]])"
      ]
     },
     "execution_count": 90,
     "metadata": {},
     "output_type": "execute_result"
    }
   ],
   "source": [
    "y_train\n"
   ]
  },
  {
   "cell_type": "code",
   "execution_count": 91,
   "id": "9d27b53b",
   "metadata": {},
   "outputs": [],
   "source": [
    "from sklearn.model_selection import StratifiedKFold"
   ]
  },
  {
   "cell_type": "code",
   "execution_count": 92,
   "id": "eba48e94",
   "metadata": {},
   "outputs": [],
   "source": [
    "kfold = StratifiedKFold(n_splits=2, shuffle=True, random_state=42)\n"
   ]
  },
  {
   "cell_type": "code",
   "execution_count": 93,
   "id": "7c7181be",
   "metadata": {},
   "outputs": [],
   "source": [
    "y_train_labels = np.argmax(y_train, axis=1)"
   ]
  },
  {
   "cell_type": "code",
   "execution_count": 94,
   "id": "d678cc54",
   "metadata": {},
   "outputs": [
    {
     "data": {
      "text/plain": [
       "array([0, 0, 0, ..., 0, 0, 0], dtype=int64)"
      ]
     },
     "execution_count": 94,
     "metadata": {},
     "output_type": "execute_result"
    }
   ],
   "source": [
    "y_train_labels"
   ]
  },
  {
   "cell_type": "code",
   "execution_count": 95,
   "id": "187d45d3",
   "metadata": {},
   "outputs": [
    {
     "name": "stdout",
     "output_type": "stream",
     "text": [
      "Epoch 1/5\n",
      "\u001b[1m3176/3176\u001b[0m \u001b[32m━━━━━━━━━━━━━━━━━━━━\u001b[0m\u001b[37m\u001b[0m \u001b[1m450s\u001b[0m 139ms/step - accuracy: 0.9606 - loss: 0.1237 - precision_1: 0.9846 - recall_1: 0.9400 - val_accuracy: 0.9729 - val_loss: 0.0712 - val_precision_1: 0.9902 - val_recall_1: 0.9610\n",
      "Epoch 2/5\n",
      "\u001b[1m3176/3176\u001b[0m \u001b[32m━━━━━━━━━━━━━━━━━━━━\u001b[0m\u001b[37m\u001b[0m \u001b[1m354s\u001b[0m 112ms/step - accuracy: 0.9746 - loss: 0.0648 - precision_1: 0.9894 - recall_1: 0.9641 - val_accuracy: 0.9753 - val_loss: 0.0608 - val_precision_1: 0.9906 - val_recall_1: 0.9640\n",
      "Epoch 3/5\n",
      "\u001b[1m3176/3176\u001b[0m \u001b[32m━━━━━━━━━━━━━━━━━━━━\u001b[0m\u001b[37m\u001b[0m \u001b[1m427s\u001b[0m 135ms/step - accuracy: 0.9759 - loss: 0.0613 - precision_1: 0.9895 - recall_1: 0.9663 - val_accuracy: 0.9768 - val_loss: 0.0596 - val_precision_1: 0.9899 - val_recall_1: 0.9673\n",
      "Epoch 4/5\n",
      "\u001b[1m3176/3176\u001b[0m \u001b[32m━━━━━━━━━━━━━━━━━━━━\u001b[0m\u001b[37m\u001b[0m \u001b[1m418s\u001b[0m 132ms/step - accuracy: 0.9766 - loss: 0.0598 - precision_1: 0.9897 - recall_1: 0.9670 - val_accuracy: 0.9745 - val_loss: 0.0688 - val_precision_1: 0.9877 - val_recall_1: 0.9666\n",
      "Epoch 5/5\n",
      "\u001b[1m3176/3176\u001b[0m \u001b[32m━━━━━━━━━━━━━━━━━━━━\u001b[0m\u001b[37m\u001b[0m \u001b[1m392s\u001b[0m 123ms/step - accuracy: 0.9770 - loss: 0.0580 - precision_1: 0.9901 - recall_1: 0.9679 - val_accuracy: 0.9776 - val_loss: 0.0569 - val_precision_1: 0.9904 - val_recall_1: 0.9682\n",
      "\u001b[1m12701/12701\u001b[0m \u001b[32m━━━━━━━━━━━━━━━━━━━━\u001b[0m\u001b[37m\u001b[0m \u001b[1m143s\u001b[0m 11ms/step - accuracy: 0.9778 - loss: 0.0561 - precision_1: 0.9904 - recall_1: 0.9686\n",
      "Epoch 1/5\n",
      "\u001b[1m3176/3176\u001b[0m \u001b[32m━━━━━━━━━━━━━━━━━━━━\u001b[0m\u001b[37m\u001b[0m \u001b[1m395s\u001b[0m 124ms/step - accuracy: 0.9776 - loss: 0.0562 - precision_1: 0.9903 - recall_1: 0.9687 - val_accuracy: 0.9765 - val_loss: 0.0577 - val_precision_1: 0.9891 - val_recall_1: 0.9679\n",
      "Epoch 2/5\n",
      "\u001b[1m3176/3176\u001b[0m \u001b[32m━━━━━━━━━━━━━━━━━━━━\u001b[0m\u001b[37m\u001b[0m \u001b[1m365s\u001b[0m 115ms/step - accuracy: 0.9776 - loss: 0.0561 - precision_1: 0.9902 - recall_1: 0.9685 - val_accuracy: 0.9770 - val_loss: 0.0585 - val_precision_1: 0.9913 - val_recall_1: 0.9665\n",
      "Epoch 3/5\n",
      "\u001b[1m3176/3176\u001b[0m \u001b[32m━━━━━━━━━━━━━━━━━━━━\u001b[0m\u001b[37m\u001b[0m \u001b[1m406s\u001b[0m 128ms/step - accuracy: 0.9781 - loss: 0.0552 - precision_1: 0.9904 - recall_1: 0.9691 - val_accuracy: 0.9783 - val_loss: 0.0540 - val_precision_1: 0.9906 - val_recall_1: 0.9695\n",
      "Epoch 4/5\n",
      "\u001b[1m3176/3176\u001b[0m \u001b[32m━━━━━━━━━━━━━━━━━━━━\u001b[0m\u001b[37m\u001b[0m \u001b[1m811s\u001b[0m 255ms/step - accuracy: 0.9780 - loss: 0.0547 - precision_1: 0.9904 - recall_1: 0.9692 - val_accuracy: 0.9755 - val_loss: 0.0736 - val_precision_1: 0.9892 - val_recall_1: 0.9664\n",
      "Epoch 5/5\n",
      "\u001b[1m3176/3176\u001b[0m \u001b[32m━━━━━━━━━━━━━━━━━━━━\u001b[0m\u001b[37m\u001b[0m \u001b[1m861s\u001b[0m 271ms/step - accuracy: 0.9784 - loss: 0.0535 - precision_1: 0.9902 - recall_1: 0.9699 - val_accuracy: 0.9726 - val_loss: 0.1001 - val_precision_1: 0.9854 - val_recall_1: 0.9637\n",
      "\u001b[1m12701/12701\u001b[0m \u001b[32m━━━━━━━━━━━━━━━━━━━━\u001b[0m\u001b[37m\u001b[0m \u001b[1m302s\u001b[0m 24ms/step - accuracy: 0.9729 - loss: 0.0981 - precision_1: 0.9856 - recall_1: 0.9642\n",
      "Average K-Fold Cross-Validation Results (on Validation Set):\n",
      "Loss: 0.07735403999686241\n",
      "Accuracy: 0.9751960933208466\n",
      "Precision: 0.9878550469875336\n",
      "Recall: 0.9662285149097443\n"
     ]
    }
   ],
   "source": [
    "scores = []\n",
    "model = create_model()\n",
    "for train_index, val_index in kfold.split(x_train, y_train_labels):\n",
    "    X_train_inner, X_val_inner = x_train[train_index], x_train[val_index]\n",
    "    y_train_inner, y_val_inner = y_train[train_index], y_train[val_index] \n",
    "    \n",
    "    model.fit(X_train_inner, y_train_inner, epochs=5, batch_size=256,validation_data=(X_val_inner, y_val_inner))\n",
    "    test_loss, test_acc, precision, recall = model.evaluate(x_val, y_val)\n",
    "    scores.append([test_loss, test_acc, precision, recall])\n",
    "\n",
    "print(\"Average K-Fold Cross-Validation Results (on Validation Set):\")\n",
    "print(\"Loss:\", np.mean([score[0] for score in scores]))\n",
    "print(\"Accuracy:\", np.mean([score[1] for score in scores]))\n",
    "print(\"Precision:\", np.mean([score[2] for score in scores]))\n",
    "print(\"Recall:\", np.mean([score[3] for score in scores]))"
   ]
  },
  {
   "cell_type": "code",
   "execution_count": 96,
   "id": "0a19ac03",
   "metadata": {},
   "outputs": [
    {
     "name": "stdout",
     "output_type": "stream",
     "text": [
      "\u001b[1m15876/15876\u001b[0m \u001b[32m━━━━━━━━━━━━━━━━━━━━\u001b[0m\u001b[37m\u001b[0m \u001b[1m326s\u001b[0m 20ms/step\n"
     ]
    }
   ],
   "source": [
    "y_pred = model.predict(x_test)  # Assuming X_test is your test data"
   ]
  },
  {
   "cell_type": "code",
   "execution_count": 97,
   "id": "53741efa",
   "metadata": {},
   "outputs": [
    {
     "name": "stdout",
     "output_type": "stream",
     "text": [
      "[[440000    647   1071    996    796    191      0     13      0      0]\n",
      " [    29  42170     18    911     18     36      0      5      0      0]\n",
      " [  1156    434   1852   1375      9    100      0      2      0      0]\n",
      " [   207     59     62   8231     86     61      0      3      0      0]\n",
      " [    33     18     19   3071    101     46      0      0      0      0]\n",
      " [    66      8     37    842    140   1720      0      0      0      0]\n",
      " [    12      6      2    425     12     13      0      0      0      0]\n",
      " [   108      0      1    413      2      0      0     20      0      0]\n",
      " [    15      3      1    158     42    101      0      0      0      0]\n",
      " [     1      0      0     35      0      1      0      0      0      0]]\n"
     ]
    }
   ],
   "source": [
    "from sklearn.metrics import confusion_matrix\n",
    "\n",
    "# Assuming y_test is your one-hot encoded ground truth (shape: n_samples x 10)\n",
    "# Assuming y_pred is your predicted probabilities (shape: n_samples x 10)\n",
    "\n",
    "# Get the predicted class index (one label per sample) for each sample\n",
    "y_pred_labels = np.argmax(y_pred, axis=1)  # Argmax along axis=1 gives the index of the maximum value in each row\n",
    "\n",
    "# Now you can use the confusion matrix with y_test and y_pred_labels\n",
    "cm = confusion_matrix(y_test.argmax(axis=1), y_pred_labels)  # Convert y_test to labels using argmax\n",
    "print(cm)"
   ]
  },
  {
   "cell_type": "code",
   "execution_count": 98,
   "id": "43158e0e",
   "metadata": {},
   "outputs": [
    {
     "data": {
      "image/png": "[encoded data removed]",
      "text/plain": [
       "<Figure size 648x648 with 2 Axes>"
      ]
     },
     "metadata": {
      "needs_background": "light"
     },
     "output_type": "display_data"
    }
   ],
   "source": [
    "import matplotlib.pyplot as plt\n",
    "\n",
    "# Define labels for your classes (assuming you know the class names)\n",
    "class_names = attacks\n",
    "\n",
    "# Create a heatmap from the confusion matrix\n",
    "plt.figure(figsize=(9, 9))\n",
    "plt.imshow(cm, interpolation='nearest', cmap='Blues')\n",
    "plt.colorbar(label='Count')\n",
    "for i in range(len(class_names)):\n",
    "    for j in range(len(class_names)):\n",
    "        plt.text(j, i, cm[i, j], ha='center', va='center', fontsize=10)\n",
    "plt.xticks(range(len(class_names)), class_names, rotation=90, ha='right')\n",
    "plt.yticks(range(len(class_names)), class_names)\n",
    "plt.xlabel('Predicted Labels')\n",
    "plt.ylabel('True Labels')\n",
    "plt.title('Confusion Matrix')\n",
    "plt.grid(False)\n",
    "plt.show()"
   ]
  },
  {
   "cell_type": "code",
   "execution_count": 99,
   "id": "bc4dbcac",
   "metadata": {},
   "outputs": [
    {
     "name": "stdout",
     "output_type": "stream",
     "text": [
      "Value: 0.0, Count: 4572090\n",
      "Value: 1.0, Count: 508010\n"
     ]
    }
   ],
   "source": [
    "# Get unique elements and their counts\n",
    "unique_values, counts = np.unique(y_test, return_counts=True)\n",
    "\n",
    "# Print the unique values and their corresponding counts\n",
    "for value, count in zip(unique_values, counts):\n",
    "    print(f\"Value: {value}, Count: {count}\")"
   ]
  },
  {
   "cell_type": "code",
   "execution_count": 100,
   "id": "32cc9e06",
   "metadata": {},
   "outputs": [
    {
     "name": "stderr",
     "output_type": "stream",
     "text": [
      "WARNING:absl:You are saving your model as an HDF5 file via `model.save()` or `keras.saving.save_model(model)`. This file format is considered legacy. We recommend using instead the native Keras format, e.g. `model.save('my_model.keras')` or `keras.saving.save_model(model, 'my_model.keras')`. \n"
     ]
    }
   ],
   "source": [
    "model.save('multi_classifier_kfold.h5')"
   ]
  },
  {
   "cell_type": "code",
   "execution_count": null,
   "id": "b9148f2d",
   "metadata": {},
   "outputs": [],
   "source": []
  }
 ],
 "metadata": {
  "kernelspec": {
   "display_name": "Python 3 (ipykernel)",
   "language": "python",
   "name": "python3"
  },
  "language_info": {
   "codemirror_mode": {
    "name": "ipython",
    "version": 3
   },
   "file_extension": ".py",
   "mimetype": "text/x-python",
   "name": "python",
   "nbconvert_exporter": "python",
   "pygments_lexer": "ipython3",
   "version": "3.9.7"
  }
 },
 "nbformat": 4,
 "nbformat_minor": 5
}
